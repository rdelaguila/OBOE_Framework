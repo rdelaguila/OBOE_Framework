{
 "cells": [
  {
   "cell_type": "code",
   "execution_count": null,
   "metadata": {},
   "outputs": [],
   "source": []
  },
  {
   "cell_type": "code",
   "execution_count": null,
   "metadata": {},
   "outputs": [],
   "source": []
  },
  {
   "cell_type": "code",
   "execution_count": 1,
   "metadata": {},
   "outputs": [
    {
     "data": {
      "text/html": [
       "<style type='text/css'>\n",
       ".datatable table.frame { margin-bottom: 0; }\n",
       ".datatable table.frame thead { border-bottom: none; }\n",
       ".datatable table.frame tr.coltypes td {  color: #FFFFFF;  line-height: 6px;  padding: 0 0.5em;}\n",
       ".datatable .boolean { background: #DDDD99; }\n",
       ".datatable .object  { background: #565656; }\n",
       ".datatable .integer { background: #5D9E5D; }\n",
       ".datatable .float   { background: #4040CC; }\n",
       ".datatable .string  { background: #CC4040; }\n",
       ".datatable .row_index {  background: var(--jp-border-color3);  border-right: 1px solid var(--jp-border-color0);  color: var(--jp-ui-font-color3);  font-size: 9px;}\n",
       ".datatable .frame tr.coltypes .row_index {  background: var(--jp-border-color0);}\n",
       ".datatable th:nth-child(2) { padding-left: 12px; }\n",
       ".datatable .hellipsis {  color: var(--jp-cell-editor-border-color);}\n",
       ".datatable .vellipsis {  background: var(--jp-layout-color0);  color: var(--jp-cell-editor-border-color);}\n",
       ".datatable .na {  color: var(--jp-cell-editor-border-color);  font-size: 80%;}\n",
       ".datatable .footer { font-size: 9px; }\n",
       ".datatable .frame_dimensions {  background: var(--jp-border-color3);  border-top: 1px solid var(--jp-border-color0);  color: var(--jp-ui-font-color3);  display: inline-block;  opacity: 0.6;  padding: 1px 10px 1px 5px;}\n",
       "</style>\n"
      ],
      "text/plain": [
       "<IPython.core.display.HTML object>"
      ]
     },
     "metadata": {},
     "output_type": "display_data"
    }
   ],
   "source": [
    "import numpy as np\n",
    "import pandas as pd\n",
    "import datatable\n",
    "import itertools as it\n",
    "from owlready2 import *\n",
    "import math\n",
    "import joblib\n",
    "\n",
    "import pickle\n",
    "from bayes_opt import BayesianOptimization\n",
    "#para depurar los que letras que no están en el codigo ascii\n",
    "import unicodedata\n",
    "import functools\n",
    "import spacy\n",
    "import stanfordnlp\n",
    "#from spacy_stanfordnlp import StanfordNLPLanguage\n",
    "from sklearn.decomposition import LatentDirichletAllocation\n",
    "from sklearn import metrics\n",
    "#from wiki_dump_reader import Cleaner, iterate\n",
    "from sklearn.decomposition import TruncatedSVD\n",
    "\n",
    "from sklearn.preprocessing import normalize\n",
    "from sklearn.feature_extraction.text import TfidfVectorizer\n",
    "from sklearn.metrics.pairwise import pairwise_distances\n",
    "\n",
    "from sklearn.linear_model import LogisticRegression\n",
    "from sklearn.preprocessing import StandardScaler\n",
    "from sklearn.feature_selection import chi2\n",
    "from sklearn.decomposition import TruncatedSVD\n",
    "from sklearn.preprocessing import normalize,scale\n",
    "\n",
    "\n",
    "\n",
    "#import pyLDAvis\n",
    "#import pyLDAvis.gensim  # don't skip this\n",
    "import matplotlib.pyplot as plt\n",
    "%matplotlib inline\n",
    "\n",
    "from IPython.display import SVG\n",
    "\n",
    "import random\n",
    "from sklearn.externals import joblib\n",
    "\n",
    "\n",
    "#Operaciones con gráficos\n",
    "import scattertext as st\n",
    "from matplotlib import pyplot as plt\n",
    "from matplotlib.ticker import MaxNLocator\n",
    "\n",
    "import networkx as nx\n",
    "\n",
    "import bokeh.plotting as bp\n",
    "from bokeh.models import HoverTool, BoxSelectTool, LabelSet, ColumnDataSource, Range1d\n",
    "from bokeh.plotting import figure, show, output_notebook\n",
    "from sklearn.manifold import TSNE\n",
    "\n",
    "#import gensim\n",
    "#import gensim.corpora as corpora\n",
    "#from gensim.models import CoherenceModel\n",
    "#from gensim.models import HdpModel\n",
    "\n",
    "warnings.filterwarnings(\"ignore\")\n",
    "\n",
    "from sklearn.feature_extraction.text import TfidfVectorizer, CountVectorizer\n",
    "from sklearn.decomposition import LatentDirichletAllocation\n",
    "from multiprocessing import  Pool\n",
    "import math\n",
    "import scipy.sparse as sp\n",
    "\n",
    "\n",
    "from sklearn.model_selection import *\n",
    "from sklearn.svm import SVC\n",
    "from sklearn.metrics import classification_report, confusion_matrix\n",
    "\n"
   ]
  },
  {
   "cell_type": "code",
   "execution_count": 2,
   "metadata": {},
   "outputs": [],
   "source": [
    "import json\n",
    "\n",
    "with open('../config/config.json', 'r') as f:\n",
    "    config = json.load(f)\n"
   ]
  },
  {
   "cell_type": "code",
   "execution_count": 3,
   "metadata": {},
   "outputs": [],
   "source": [
    "interimpath = '../data/interim/20newsgroup/corpus_normalizado.csv'"
   ]
  },
  {
   "cell_type": "code",
   "execution_count": 4,
   "metadata": {},
   "outputs": [
    {
     "data": {
      "text/plain": [
       "'../data/interim/20newsgroup/corpus_normalizado.csv'"
      ]
     },
     "execution_count": 4,
     "metadata": {},
     "output_type": "execute_result"
    }
   ],
   "source": [
    "interimpath"
   ]
  },
  {
   "cell_type": "code",
   "execution_count": 5,
   "metadata": {},
   "outputs": [
    {
     "data": {
      "text/html": [
       "<div>\n",
       "<style scoped>\n",
       "    .dataframe tbody tr th:only-of-type {\n",
       "        vertical-align: middle;\n",
       "    }\n",
       "\n",
       "    .dataframe tbody tr th {\n",
       "        vertical-align: top;\n",
       "    }\n",
       "\n",
       "    .dataframe thead th {\n",
       "        text-align: right;\n",
       "    }\n",
       "</style>\n",
       "<table border=\"1\" class=\"dataframe\">\n",
       "  <thead>\n",
       "    <tr style=\"text-align: right;\">\n",
       "      <th></th>\n",
       "      <th>cleaned_text</th>\n",
       "      <th>Target</th>\n",
       "    </tr>\n",
       "  </thead>\n",
       "  <tbody>\n",
       "    <tr>\n",
       "      <th>0</th>\n",
       "      <td>organization post office carnegie mellon pitts...</td>\n",
       "      <td>0</td>\n",
       "    </tr>\n",
       "    <tr>\n",
       "      <th>1</th>\n",
       "      <td>summary seek recommendation vlb video card nnt...</td>\n",
       "      <td>1</td>\n",
       "    </tr>\n",
       "    <tr>\n",
       "      <th>2</th>\n",
       "      <td>line 95 nntp post host viktoria.dsv.su.se orga...</td>\n",
       "      <td>0</td>\n",
       "    </tr>\n",
       "    <tr>\n",
       "      <th>3</th>\n",
       "      <td>originator guyd pal500.austin.ibm.com organiza...</td>\n",
       "      <td>1</td>\n",
       "    </tr>\n",
       "    <tr>\n",
       "      <th>4</th>\n",
       "      <td>organization sophomore mechanical engineer car...</td>\n",
       "      <td>0</td>\n",
       "    </tr>\n",
       "  </tbody>\n",
       "</table>\n",
       "</div>"
      ],
      "text/plain": [
       "                                        cleaned_text  Target\n",
       "0  organization post office carnegie mellon pitts...       0\n",
       "1  summary seek recommendation vlb video card nnt...       1\n",
       "2  line 95 nntp post host viktoria.dsv.su.se orga...       0\n",
       "3  originator guyd pal500.austin.ibm.com organiza...       1\n",
       "4  organization sophomore mechanical engineer car...       0"
      ]
     },
     "execution_count": 5,
     "metadata": {},
     "output_type": "execute_result"
    }
   ],
   "source": [
    "corpus = pd.read_csv(interimpath)\n",
    "\n",
    "corpus = corpus.loc[:,['cleaned_text','Target']]\n",
    "corpus.Target = corpus.Target.astype(int)\n",
    "corpus.head()"
   ]
  },
  {
   "cell_type": "code",
   "execution_count": 12,
   "metadata": {},
   "outputs": [],
   "source": [
    "from nltk.corpus import stopwords\n",
    "stop_words = stopwords.words('english')\n"
   ]
  },
  {
   "cell_type": "code",
   "execution_count": 7,
   "metadata": {},
   "outputs": [],
   "source": [
    "stop_words.append('be')\n",
    "stop_words.append('don')\n",
    "from sklearn.feature_extraction import text\n",
    "my_stop_words = text.ENGLISH_STOP_WORDS.union([\"be\",\"don\"])\n"
   ]
  },
  {
   "cell_type": "code",
   "execution_count": 8,
   "metadata": {},
   "outputs": [],
   "source": [
    "random.seed(100)"
   ]
  },
  {
   "cell_type": "markdown",
   "metadata": {},
   "source": [
    "Para hacer LDA, no vamos a utilizar todo el corpus. Seleccionaremos aleatoriamente 100.000 textos de clase positiva y sin clasificar para posteriormente hacer LDA."
   ]
  },
  {
   "cell_type": "code",
   "execution_count": 9,
   "metadata": {},
   "outputs": [
    {
     "data": {
      "text/plain": [
       "['../objects/20newsgroup/tfidf_object']"
      ]
     },
     "execution_count": 9,
     "metadata": {},
     "output_type": "execute_result"
    }
   ],
   "source": [
    "tfidf = TfidfVectorizer(min_df=0.05,max_df=0.95, stop_words=['english','spanish'], ngram_range=(1,1))\n",
    "#por ahora no pongo ngramas\n",
    "joblib.dump(tfidf,'../objects/'+'20newsgroup'+'/tfidf_object')"
   ]
  },
  {
   "cell_type": "code",
   "execution_count": 10,
   "metadata": {},
   "outputs": [],
   "source": [
    "dtm = tfidf.fit_transform(corpus.iloc[:,0])"
   ]
  },
  {
   "cell_type": "code",
   "execution_count": 11,
   "metadata": {},
   "outputs": [
    {
     "data": {
      "text/plain": [
       "<18846x253 sparse matrix of type '<class 'numpy.float64'>'\n",
       "\twith 501379 stored elements in Compressed Sparse Row format>"
      ]
     },
     "execution_count": 11,
     "metadata": {},
     "output_type": "execute_result"
    }
   ],
   "source": [
    "dtm"
   ]
  },
  {
   "cell_type": "markdown",
   "metadata": {},
   "source": [
    "### Anteriormente, hemos realizado un grid search. Vamos a utilizar los parámetros que mejor funcionaron en su momento\n",
    "\n",
    "from sklearn.model_selection import GridSearchCV\n",
    "search_params = { 'topic_word_prior':[0.5,0.7,0,0.95,0.99], # hemos partido de 0.5, 0.7, 0,9, 0.95 y 0.99\n",
    "                 'doc_topic_prior':[0.01,0.015,0.05,0.3,0.5]}\n",
    "\n",
    "LDA = LatentDirichletAllocation(n_components=2,random_state=42,n_jobs=10,batch_size=50000,  evaluate_every = 100,  mean_change_tol=0.05)\n",
    "\n",
    "model = GridSearchCV(LDA, param_grid=search_params)\n",
    "from sklearn.utils import parallel_backend\n",
    "i = time.time()\n",
    "with parallel_backend('threading'):\n",
    "    # Do the Grid Search\n",
    "    model.fit(dtm)\n",
    "\n",
    "    joblib.dump(model, 'lda_model4.pkl')\n",
    "\n",
    "f = time.time()\n",
    "elapsed = f - i\n",
    "print('transcurridos {0} s'.format(elapsed))\n"
   ]
  },
  {
   "cell_type": "code",
   "execution_count": null,
   "metadata": {},
   "outputs": [],
   "source": []
  },
  {
   "cell_type": "markdown",
   "metadata": {},
   "source": [
    "## Ya sabemos que nuestro mejor modelo tiene unos priors determinados, \n",
    "joblib.dump(modelo,'../objects/'+config.get('corpus')+'/modelo_gridsearch.final')\n"
   ]
  },
  {
   "cell_type": "code",
   "execution_count": 12,
   "metadata": {},
   "outputs": [
    {
     "data": {
      "text/plain": [
       "['../objects/20newsgroup/lda.final']"
      ]
     },
     "execution_count": 12,
     "metadata": {},
     "output_type": "execute_result"
    }
   ],
   "source": [
    "LDA = LatentDirichletAllocation(n_components=2,random_state=42,topic_word_prior = 0.95,doc_topic_prior = 0.015,n_jobs=10,max_iter=250,mean_change_tol=0.05)\n",
    "joblib.dump(LDA,'../objects/20newsgroup/lda.final')\n"
   ]
  },
  {
   "cell_type": "code",
   "execution_count": 13,
   "metadata": {},
   "outputs": [
    {
     "data": {
      "text/plain": [
       "TfidfVectorizer(analyzer='word', binary=False, decode_error='strict',\n",
       "        dtype=<class 'numpy.float64'>, encoding='utf-8', input='content',\n",
       "        lowercase=True, max_df=0.95, max_features=None, min_df=0.05,\n",
       "        ngram_range=(1, 1), norm='l2', preprocessor=None, smooth_idf=True,\n",
       "        stop_words=['english', 'spanish'], strip_accents=None,\n",
       "        sublinear_tf=False, token_pattern='(?u)\\\\b\\\\w\\\\w+\\\\b',\n",
       "        tokenizer=None, use_idf=True, vocabulary=None)"
      ]
     },
     "execution_count": 13,
     "metadata": {},
     "output_type": "execute_result"
    }
   ],
   "source": [
    "#tfidf = joblib.load('tfidf')\n",
    "tfidf"
   ]
  },
  {
   "cell_type": "code",
   "execution_count": null,
   "metadata": {},
   "outputs": [],
   "source": []
  },
  {
   "cell_type": "code",
   "execution_count": 14,
   "metadata": {},
   "outputs": [],
   "source": [
    "texts = corpus.iloc[:,0]\n",
    "texts = list(texts.values)"
   ]
  },
  {
   "cell_type": "code",
   "execution_count": null,
   "metadata": {},
   "outputs": [],
   "source": []
  },
  {
   "cell_type": "code",
   "execution_count": 18,
   "metadata": {},
   "outputs": [],
   "source": [
    "feature_names = tfidf.get_feature_names()"
   ]
  },
  {
   "cell_type": "code",
   "execution_count": null,
   "metadata": {},
   "outputs": [],
   "source": [
    "feature_names"
   ]
  },
  {
   "cell_type": "code",
   "execution_count": 15,
   "metadata": {},
   "outputs": [
    {
     "name": "stdout",
     "output_type": "stream",
     "text": [
      " terminado en 19.22637332677841 min\n"
     ]
    }
   ],
   "source": [
    "i = time.time()\n",
    "from sklearn.utils import parallel_backend\n",
    "i = time.time()\n",
    "with parallel_backend('threading'):\n",
    "    modelo = LDA.fit(dtm)\n",
    "print (' terminado en {0} min'.format((time.time() - i) / 60))"
   ]
  },
  {
   "cell_type": "code",
   "execution_count": 19,
   "metadata": {},
   "outputs": [
    {
     "data": {
      "text/plain": [
       "['../objects/20newsgroup/feature_names.final']"
      ]
     },
     "execution_count": 19,
     "metadata": {},
     "output_type": "execute_result"
    }
   ],
   "source": [
    "joblib.dump(modelo,'../objects/20newsgroup/final_lda_fit.final.pck')\n",
    "joblib.dump(feature_names,'../objects/20newsgroup/feature_names.final')\n"
   ]
  },
  {
   "cell_type": "code",
   "execution_count": 20,
   "metadata": {},
   "outputs": [],
   "source": [
    "#modelo = joblib.load('final_lda.pck')\n",
    "#modelo = joblib.load('final_lda.final.pck')\n"
   ]
  },
  {
   "cell_type": "code",
   "execution_count": null,
   "metadata": {},
   "outputs": [],
   "source": []
  },
  {
   "cell_type": "code",
   "execution_count": 1,
   "metadata": {},
   "outputs": [],
   "source": [
    " from sklearn.externals import joblib\n",
    "modelo = joblib.load('../objects/20newsgroup/final_lda_fit.final.pck')"
   ]
  },
  {
   "cell_type": "code",
   "execution_count": 2,
   "metadata": {},
   "outputs": [],
   "source": [
    "tfidf = joblib.load('../objects/20newsgroup/tfidf_object')"
   ]
  },
  {
   "cell_type": "code",
   "execution_count": 3,
   "metadata": {},
   "outputs": [],
   "source": [
    "feature_names = joblib.load('../objects/20newsgroup/feature_names.final')"
   ]
  },
  {
   "cell_type": "code",
   "execution_count": 6,
   "metadata": {},
   "outputs": [
    {
     "name": "stdout",
     "output_type": "stream",
     "text": [
      "THE TOP 15 WORDS FOR TOPIC #0\n",
      "['god', 'year', 'time', 'post', 'say', 'have', 'like', 'know', 'don', 'people', 'think', 'article', 'write', 'com', 'edu']\n",
      "\n",
      "\n",
      "THE TOP 15 WORDS FOR TOPIC #1\n",
      "['use', 'know', 'file', 'be', 'system', 'mail', 'distribution', 'com', 'thank', 'window', 'nntp', 'host', 'university', 'post', 'edu']\n",
      "\n",
      "\n"
     ]
    }
   ],
   "source": [
    "for index,topic in enumerate(modelo.components_):\n",
    "    print(f'THE TOP 15 WORDS FOR TOPIC #{index}')\n",
    "    print([feature_names[i] for i in topic.argsort()[-15:]])\n",
    "    joblib.dump([feature_names[i] for i in topic.argsort()],'../objects/20newsgroup/topics'+str(index))\n",
    "    print('\\n')\n",
    "    "
   ]
  },
  {
   "cell_type": "code",
   "execution_count": null,
   "metadata": {},
   "outputs": [],
   "source": [
    "###original"
   ]
  },
  {
   "cell_type": "code",
   "execution_count": 21,
   "metadata": {},
   "outputs": [
    {
     "name": "stdout",
     "output_type": "stream",
     "text": [
      "THE TOP 15 WORDS FOR TOPIC #0\n",
      "['god', 'year', 'time', 'post', 'say', 'have', 'like', 'know', 'don', 'people', 'think', 'article', 'write', 'com', 'edu']\n",
      "\n",
      "\n",
      "THE TOP 15 WORDS FOR TOPIC #1\n",
      "['use', 'know', 'file', 'be', 'system', 'mail', 'distribution', 'com', 'thank', 'window', 'nntp', 'host', 'university', 'post', 'edu']\n",
      "\n",
      "\n"
     ]
    }
   ],
   "source": [
    "for index,topic in enumerate(modelo.components_):\n",
    "    print(f'THE TOP 15 WORDS FOR TOPIC #{index}')\n",
    "    print([tfidf.get_feature_names()[i] for i in topic.argsort()[-15:]])\n",
    "    joblib.dump([tfidf.get_feature_names()[i] for i in topic.argsort()],'topics'+str(index))\n",
    "    print('\\n')\n",
    "    "
   ]
  },
  {
   "cell_type": "code",
   "execution_count": null,
   "metadata": {},
   "outputs": [],
   "source": []
  },
  {
   "cell_type": "code",
   "execution_count": null,
   "metadata": {},
   "outputs": [],
   "source": []
  },
  {
   "cell_type": "code",
   "execution_count": 22,
   "metadata": {},
   "outputs": [],
   "source": [
    "#save dtm as dataframe"
   ]
  },
  {
   "cell_type": "code",
   "execution_count": 23,
   "metadata": {},
   "outputs": [],
   "source": [
    "pds = pd.DataFrame(dtm.todense(), columns = feature_names)\n"
   ]
  },
  {
   "cell_type": "code",
   "execution_count": 24,
   "metadata": {},
   "outputs": [
    {
     "data": {
      "text/plain": [
       "['../objects/20newsgroup/dtm_pds']"
      ]
     },
     "execution_count": 24,
     "metadata": {},
     "output_type": "execute_result"
    }
   ],
   "source": [
    "joblib.dump(pds,'../objects/20newsgroup/dtm_pds')"
   ]
  },
  {
   "cell_type": "code",
   "execution_count": 25,
   "metadata": {},
   "outputs": [],
   "source": [
    "ldares = modelo.transform(dtm)"
   ]
  },
  {
   "cell_type": "code",
   "execution_count": 26,
   "metadata": {},
   "outputs": [],
   "source": [
    "joblib.dump(ldares,'../objects/'+config.get('corpus')+'/ldares_transform.final')"
   ]
  },
  {
   "cell_type": "code",
   "execution_count": 7,
   "metadata": {},
   "outputs": [],
   "source": [
    "ldares = joblib.load('../objects/'+config.get('corpus')+'/ldares_transform.final')"
   ]
  },
  {
   "cell_type": "code",
   "execution_count": 8,
   "metadata": {},
   "outputs": [
    {
     "data": {
      "text/plain": [
       "array([[0.99644682, 0.00355318],\n",
       "       [0.00382263, 0.99617737],\n",
       "       [0.99748627, 0.00251373],\n",
       "       ...,\n",
       "       [0.0040213 , 0.9959787 ],\n",
       "       [0.99613077, 0.00386923],\n",
       "       [0.99719364, 0.00280636]])"
      ]
     },
     "execution_count": 8,
     "metadata": {},
     "output_type": "execute_result"
    }
   ],
   "source": [
    "ldares"
   ]
  },
  {
   "cell_type": "code",
   "execution_count": 33,
   "metadata": {},
   "outputs": [],
   "source": [
    "def svc_cv(C, gamma, data, targets):\n",
    "    \"\"\"SVC cross validation.\n",
    "    This function will instantiate a SVC classifier with parameters C and\n",
    "    gamma. Combined with data and targets this will in turn be used to perform\n",
    "    cross validation. The result of cross validation is returned.\n",
    "    Our goal is to find combinations of C and gamma that maximizes the roc_auc\n",
    "    metric.\n",
    "    \"\"\"\n",
    "    estimator = SVC(C=C, gamma=gamma, random_state=2)\n",
    "    cval = cross_val_score(estimator, data, targets, scoring='roc_auc', cv=4)\n",
    "    return cval.mean()\n",
    "\n",
    "def optimize_svc(data, targets):\n",
    "    \"\"\"Apply Bayesian Optimization to SVC parameters.\"\"\"\n",
    "    def svc_crossval(expC, expGamma):\n",
    "        \"\"\"Wrapper of SVC cross validation.\n",
    "        Notice how we transform between regular and log scale. While this\n",
    "        is not technically necessary, it greatly improves the performance\n",
    "        of the optimizer.\n",
    "        \"\"\"\n",
    "        C = 10 ** expC\n",
    "        gamma = 10 ** expGamma\n",
    "        return svc_cv(C=C, gamma=gamma, data=data, targets=targets)\n",
    "\n",
    "    optimizer = BayesianOptimization(\n",
    "        f=svc_crossval,\n",
    "        pbounds={\"expC\": (-4, 2), \"expGamma\": (-4, 1)},\n",
    "        random_state=1234,\n",
    "        verbose=2\n",
    "    )\n",
    "    optimizer.maximize(n_iter=20)\n",
    "\n",
    "    print(\"Final result:\", optimizer.max)\n",
    "from bayes_opt.util import Colours\n",
    "print(Colours.yellow(\"--- Optimizing SVM ---\"))\n"
   ]
  },
  {
   "cell_type": "code",
   "execution_count": 33,
   "metadata": {},
   "outputs": [],
   "source": []
  },
  {
   "cell_type": "code",
   "execution_count": 13,
   "metadata": {},
   "outputs": [],
   "source": [
    "data = pd.DataFrame(ldares,columns=['A','B'])\n",
    "data['Target'] = corpus.iloc[:,1]"
   ]
  },
  {
   "cell_type": "code",
   "execution_count": 14,
   "metadata": {},
   "outputs": [
    {
     "data": {
      "text/html": [
       "<div>\n",
       "<style scoped>\n",
       "    .dataframe tbody tr th:only-of-type {\n",
       "        vertical-align: middle;\n",
       "    }\n",
       "\n",
       "    .dataframe tbody tr th {\n",
       "        vertical-align: top;\n",
       "    }\n",
       "\n",
       "    .dataframe thead th {\n",
       "        text-align: right;\n",
       "    }\n",
       "</style>\n",
       "<table border=\"1\" class=\"dataframe\">\n",
       "  <thead>\n",
       "    <tr style=\"text-align: right;\">\n",
       "      <th></th>\n",
       "      <th>A</th>\n",
       "      <th>B</th>\n",
       "      <th>Target</th>\n",
       "    </tr>\n",
       "  </thead>\n",
       "  <tbody>\n",
       "    <tr>\n",
       "      <th>0</th>\n",
       "      <td>0.996447</td>\n",
       "      <td>0.003553</td>\n",
       "      <td>0</td>\n",
       "    </tr>\n",
       "    <tr>\n",
       "      <th>1</th>\n",
       "      <td>0.003823</td>\n",
       "      <td>0.996177</td>\n",
       "      <td>1</td>\n",
       "    </tr>\n",
       "    <tr>\n",
       "      <th>2</th>\n",
       "      <td>0.997486</td>\n",
       "      <td>0.002514</td>\n",
       "      <td>0</td>\n",
       "    </tr>\n",
       "    <tr>\n",
       "      <th>3</th>\n",
       "      <td>0.003727</td>\n",
       "      <td>0.996273</td>\n",
       "      <td>1</td>\n",
       "    </tr>\n",
       "    <tr>\n",
       "      <th>4</th>\n",
       "      <td>0.003667</td>\n",
       "      <td>0.996333</td>\n",
       "      <td>0</td>\n",
       "    </tr>\n",
       "  </tbody>\n",
       "</table>\n",
       "</div>"
      ],
      "text/plain": [
       "          A         B  Target\n",
       "0  0.996447  0.003553       0\n",
       "1  0.003823  0.996177       1\n",
       "2  0.997486  0.002514       0\n",
       "3  0.003727  0.996273       1\n",
       "4  0.003667  0.996333       0"
      ]
     },
     "execution_count": 14,
     "metadata": {},
     "output_type": "execute_result"
    }
   ],
   "source": [
    "data.head()"
   ]
  },
  {
   "cell_type": "code",
   "execution_count": 15,
   "metadata": {},
   "outputs": [],
   "source": [
    "datapos = data[data.Target==1]\n",
    "dataneg = data[data.Target==0]"
   ]
  },
  {
   "cell_type": "code",
   "execution_count": 16,
   "metadata": {},
   "outputs": [
    {
     "data": {
      "text/html": [
       "<div>\n",
       "<style scoped>\n",
       "    .dataframe tbody tr th:only-of-type {\n",
       "        vertical-align: middle;\n",
       "    }\n",
       "\n",
       "    .dataframe tbody tr th {\n",
       "        vertical-align: top;\n",
       "    }\n",
       "\n",
       "    .dataframe thead th {\n",
       "        text-align: right;\n",
       "    }\n",
       "</style>\n",
       "<table border=\"1\" class=\"dataframe\">\n",
       "  <thead>\n",
       "    <tr style=\"text-align: right;\">\n",
       "      <th></th>\n",
       "      <th>A</th>\n",
       "      <th>B</th>\n",
       "      <th>Target</th>\n",
       "    </tr>\n",
       "  </thead>\n",
       "  <tbody>\n",
       "    <tr>\n",
       "      <th>17005</th>\n",
       "      <td>0.504893</td>\n",
       "      <td>0.495107</td>\n",
       "      <td>0</td>\n",
       "    </tr>\n",
       "    <tr>\n",
       "      <th>14457</th>\n",
       "      <td>0.004354</td>\n",
       "      <td>0.995646</td>\n",
       "      <td>0</td>\n",
       "    </tr>\n",
       "    <tr>\n",
       "      <th>2034</th>\n",
       "      <td>0.997204</td>\n",
       "      <td>0.002796</td>\n",
       "      <td>0</td>\n",
       "    </tr>\n",
       "    <tr>\n",
       "      <th>4135</th>\n",
       "      <td>0.003493</td>\n",
       "      <td>0.996507</td>\n",
       "      <td>0</td>\n",
       "    </tr>\n",
       "    <tr>\n",
       "      <th>14949</th>\n",
       "      <td>0.997913</td>\n",
       "      <td>0.002087</td>\n",
       "      <td>0</td>\n",
       "    </tr>\n",
       "  </tbody>\n",
       "</table>\n",
       "</div>"
      ],
      "text/plain": [
       "              A         B  Target\n",
       "17005  0.504893  0.495107       0\n",
       "14457  0.004354  0.995646       0\n",
       "2034   0.997204  0.002796       0\n",
       "4135   0.003493  0.996507       0\n",
       "14949  0.997913  0.002087       0"
      ]
     },
     "execution_count": 16,
     "metadata": {},
     "output_type": "execute_result"
    }
   ],
   "source": [
    "datan  = datapos.append(dataneg.sample(n=800))\n",
    "datan.tail()"
   ]
  },
  {
   "cell_type": "code",
   "execution_count": null,
   "metadata": {},
   "outputs": [],
   "source": [
    "optimize_svc(datan.loc[:,['A','B']], datan['Target'])"
   ]
  },
  {
   "cell_type": "code",
   "execution_count": 18,
   "metadata": {},
   "outputs": [],
   "source": [
    "X_train, X_test, y_train, y_test = train_test_split(datan.loc[:,['A','B']], datan['Target'], test_size = 0.30)\n",
    "svm = SVC(C=10**1.9105262532611853 ,gamma=10**-3.9794605201960813,probability=True)\n",
    "\n",
    "\n",
    "svmlda = svm.fit(X_train,y_train)\n"
   ]
  },
  {
   "cell_type": "code",
   "execution_count": 19,
   "metadata": {},
   "outputs": [
    {
     "data": {
      "text/plain": [
       "SVC(C=81.3816054771746, cache_size=200, class_weight=None, coef0=0.0,\n",
       "  decision_function_shape='ovr', degree=3, gamma=0.00010484300974245372,\n",
       "  kernel='rbf', max_iter=-1, probability=True, random_state=None,\n",
       "  shrinking=True, tol=0.001, verbose=False)"
      ]
     },
     "execution_count": 19,
     "metadata": {},
     "output_type": "execute_result"
    }
   ],
   "source": [
    "svmlda"
   ]
  },
  {
   "cell_type": "code",
   "execution_count": 21,
   "metadata": {},
   "outputs": [],
   "source": [
    "y_pred = svmlda.predict(X_test)\n"
   ]
  },
  {
   "cell_type": "code",
   "execution_count": null,
   "metadata": {},
   "outputs": [],
   "source": []
  },
  {
   "cell_type": "code",
   "execution_count": 22,
   "metadata": {},
   "outputs": [
    {
     "name": "stdout",
     "output_type": "stream",
     "text": [
      "[[133 108]\n",
      " [ 21 273]]\n",
      "              precision    recall  f1-score   support\n",
      "\n",
      "           0       0.86      0.55      0.67       241\n",
      "           1       0.72      0.93      0.81       294\n",
      "\n",
      "   micro avg       0.76      0.76      0.76       535\n",
      "   macro avg       0.79      0.74      0.74       535\n",
      "weighted avg       0.78      0.76      0.75       535\n",
      "\n"
     ]
    }
   ],
   "source": [
    "print(confusion_matrix(y_test,y_pred))\n",
    "print(classification_report(y_test,y_pred))"
   ]
  },
  {
   "cell_type": "code",
   "execution_count": 9,
   "metadata": {},
   "outputs": [],
   "source": [
    "#Nota: this is a previous evaluation metric that helps us to infer how the topics are distributed again the first target, but must not be considered along the process"
   ]
  },
  {
   "cell_type": "code",
   "execution_count": 24,
   "metadata": {},
   "outputs": [
    {
     "data": {
      "text/plain": [
       "['../objects/20newsgroup/svmlda.final']"
      ]
     },
     "execution_count": 24,
     "metadata": {},
     "output_type": "execute_result"
    }
   ],
   "source": [
    "joblib.dump(svmlda,'../objects/20newsgroup/svmlda.final')"
   ]
  },
  {
   "cell_type": "code",
   "execution_count": null,
   "metadata": {},
   "outputs": [],
   "source": []
  },
  {
   "cell_type": "code",
   "execution_count": null,
   "metadata": {},
   "outputs": [],
   "source": [
    "##aqui"
   ]
  },
  {
   "cell_type": "code",
   "execution_count": 25,
   "metadata": {},
   "outputs": [
    {
     "data": {
      "text/plain": [
       "['../objects/20newsgroup/y_a_predecir']"
      ]
     },
     "execution_count": 25,
     "metadata": {},
     "output_type": "execute_result"
    }
   ],
   "source": [
    "joblib.dump(corpus.iloc[:,1],'../objects/20newsgroup/y_a_predecir')"
   ]
  },
  {
   "cell_type": "code",
   "execution_count": 8,
   "metadata": {},
   "outputs": [],
   "source": [
    "def xgb_cv(max_depth, ntrees,min_rows,eta,learn_rate,sample_rate,colsample_bytree,reg_lambda,reg_alpha,train):\n",
    "    \"\"\"SVC cross validation.\n",
    "    This function will instantiate a SVC classifier with parameters C and\n",
    "    gamma. Combined with data and targets this will in turn be used to perform\n",
    "    cross validation. The result of cross validation is returned.\n",
    "    Our goal is to find combinations of C and gamma that maximizes the roc_auc\n",
    "    metric.\n",
    "    \"\"\"\n",
    "    params = {'max_depth': int(max_depth), 'ntrees': int(ntrees),'min_rows':int(min_rows),'eta':float(eta),\n",
    "              'learn_rate':float(learn_rate),'sample_rate':float(sample_rate),\n",
    "              'colsample_bytree':float(colsample_bytree),'reg_lambda':float(reg_lambda),'reg_alpha':float(reg_alpha)}\n",
    "      \n",
    "    estimator = H2OXGBoostEstimator(**params)\n",
    "    train['target'] = train['target'].asfactor()\n",
    "    test['target'] = test['target'].asfactor()\n",
    "    \n",
    "    estimator.train(x=['A','B'],y='target',training_frame=train,validation_frame=test)\n",
    "    return estimator.auc()\n",
    "\n",
    "def optimize_xgb(train):\n",
    "    \"\"\"Apply Bayesian Optimization to XGB parameters.\"\"\"\n",
    "    def xgb_crossval(max_depth, ntrees,min_rows,eta,learn_rate,sample_rate,colsample_bytree,reg_lambda,reg_alpha,train=train):\n",
    "        \"\"\"Wrapper of SVC cross validation.\n",
    "        Notice how we transform between regular and log scale. While this\n",
    "        is not technically necessary, it greatly improves the performance\n",
    "        of the optimizer.\n",
    "        \"\"\"\n",
    "        return xgb_cv(max_depth, ntrees,min_rows,eta,learn_rate,sample_rate,colsample_bytree,reg_lambda,reg_alpha,train)\n",
    "\n",
    "    optimizer = BayesianOptimization(\n",
    "        f=xgb_crossval,\n",
    "        \n",
    "        pbounds={\"max_depth\": (4, 40), \"ntrees\": (50,400),'min_rows':(2,50),'eta':(0.01,1),\n",
    "                 'learn_rate':(0.01,1),'sample_rate':(0.1,0.5),'colsample_bytree':(0.2,0.8),\n",
    "                 'reg_lambda':(0,1),'reg_alpha':(0,1)},\n",
    "        random_state=1234,\n",
    "        verbose=2\n",
    "    )\n",
    "    modelos = optimizer.maximize(n_iter=10)\n",
    "    return modelos"
   ]
  },
  {
   "cell_type": "code",
   "execution_count": 44,
   "metadata": {},
   "outputs": [],
   "source": [
    "ldares = joblib.load('../objects/'+config.get('corpus')+'/ldares_transform.final')\n",
    "y_a_pred = joblib.load('../objects/20newsgroup/y_a_predecir')\n",
    "data = pd.DataFrame(ldares,columns=['A','B'])\n",
    "data['Target'] = y_a_pred "
   ]
  },
  {
   "cell_type": "code",
   "execution_count": 45,
   "metadata": {},
   "outputs": [
    {
     "data": {
      "text/html": [
       "<div>\n",
       "<style scoped>\n",
       "    .dataframe tbody tr th:only-of-type {\n",
       "        vertical-align: middle;\n",
       "    }\n",
       "\n",
       "    .dataframe tbody tr th {\n",
       "        vertical-align: top;\n",
       "    }\n",
       "\n",
       "    .dataframe thead th {\n",
       "        text-align: right;\n",
       "    }\n",
       "</style>\n",
       "<table border=\"1\" class=\"dataframe\">\n",
       "  <thead>\n",
       "    <tr style=\"text-align: right;\">\n",
       "      <th></th>\n",
       "      <th>A</th>\n",
       "      <th>B</th>\n",
       "      <th>Target</th>\n",
       "    </tr>\n",
       "  </thead>\n",
       "  <tbody>\n",
       "    <tr>\n",
       "      <th>0</th>\n",
       "      <td>0.996447</td>\n",
       "      <td>0.003553</td>\n",
       "      <td>0</td>\n",
       "    </tr>\n",
       "    <tr>\n",
       "      <th>1</th>\n",
       "      <td>0.003823</td>\n",
       "      <td>0.996177</td>\n",
       "      <td>1</td>\n",
       "    </tr>\n",
       "    <tr>\n",
       "      <th>2</th>\n",
       "      <td>0.997486</td>\n",
       "      <td>0.002514</td>\n",
       "      <td>0</td>\n",
       "    </tr>\n",
       "    <tr>\n",
       "      <th>3</th>\n",
       "      <td>0.003727</td>\n",
       "      <td>0.996273</td>\n",
       "      <td>1</td>\n",
       "    </tr>\n",
       "    <tr>\n",
       "      <th>4</th>\n",
       "      <td>0.003667</td>\n",
       "      <td>0.996333</td>\n",
       "      <td>0</td>\n",
       "    </tr>\n",
       "  </tbody>\n",
       "</table>\n",
       "</div>"
      ],
      "text/plain": [
       "          A         B  Target\n",
       "0  0.996447  0.003553       0\n",
       "1  0.003823  0.996177       1\n",
       "2  0.997486  0.002514       0\n",
       "3  0.003727  0.996273       1\n",
       "4  0.003667  0.996333       0"
      ]
     },
     "execution_count": 45,
     "metadata": {},
     "output_type": "execute_result"
    }
   ],
   "source": [
    "data.head()"
   ]
  },
  {
   "cell_type": "code",
   "execution_count": null,
   "metadata": {},
   "outputs": [],
   "source": []
  },
  {
   "cell_type": "code",
   "execution_count": 46,
   "metadata": {},
   "outputs": [],
   "source": [
    "datapos = data[data.Target==1]\n",
    "dataneg = data[data.Target==0]"
   ]
  },
  {
   "cell_type": "code",
   "execution_count": 47,
   "metadata": {},
   "outputs": [
    {
     "data": {
      "text/plain": [
       "(982, 3)"
      ]
     },
     "execution_count": 47,
     "metadata": {},
     "output_type": "execute_result"
    }
   ],
   "source": [
    "datapos.shape"
   ]
  },
  {
   "cell_type": "code",
   "execution_count": 48,
   "metadata": {},
   "outputs": [
    {
     "data": {
      "text/plain": [
       "(17864, 3)"
      ]
     },
     "execution_count": 48,
     "metadata": {},
     "output_type": "execute_result"
    }
   ],
   "source": [
    "dataneg.shape"
   ]
  },
  {
   "cell_type": "code",
   "execution_count": 49,
   "metadata": {},
   "outputs": [
    {
     "data": {
      "text/html": [
       "<div>\n",
       "<style scoped>\n",
       "    .dataframe tbody tr th:only-of-type {\n",
       "        vertical-align: middle;\n",
       "    }\n",
       "\n",
       "    .dataframe tbody tr th {\n",
       "        vertical-align: top;\n",
       "    }\n",
       "\n",
       "    .dataframe thead th {\n",
       "        text-align: right;\n",
       "    }\n",
       "</style>\n",
       "<table border=\"1\" class=\"dataframe\">\n",
       "  <thead>\n",
       "    <tr style=\"text-align: right;\">\n",
       "      <th></th>\n",
       "      <th>A</th>\n",
       "      <th>B</th>\n",
       "      <th>Target</th>\n",
       "    </tr>\n",
       "  </thead>\n",
       "  <tbody>\n",
       "    <tr>\n",
       "      <th>13563</th>\n",
       "      <td>0.522102</td>\n",
       "      <td>0.477898</td>\n",
       "      <td>0</td>\n",
       "    </tr>\n",
       "    <tr>\n",
       "      <th>17531</th>\n",
       "      <td>0.004258</td>\n",
       "      <td>0.995742</td>\n",
       "      <td>0</td>\n",
       "    </tr>\n",
       "    <tr>\n",
       "      <th>9199</th>\n",
       "      <td>0.007724</td>\n",
       "      <td>0.992276</td>\n",
       "      <td>0</td>\n",
       "    </tr>\n",
       "    <tr>\n",
       "      <th>7960</th>\n",
       "      <td>0.005374</td>\n",
       "      <td>0.994626</td>\n",
       "      <td>0</td>\n",
       "    </tr>\n",
       "    <tr>\n",
       "      <th>7248</th>\n",
       "      <td>0.003500</td>\n",
       "      <td>0.996500</td>\n",
       "      <td>0</td>\n",
       "    </tr>\n",
       "  </tbody>\n",
       "</table>\n",
       "</div>"
      ],
      "text/plain": [
       "              A         B  Target\n",
       "13563  0.522102  0.477898       0\n",
       "17531  0.004258  0.995742       0\n",
       "9199   0.007724  0.992276       0\n",
       "7960   0.005374  0.994626       0\n",
       "7248   0.003500  0.996500       0"
      ]
     },
     "execution_count": 49,
     "metadata": {},
     "output_type": "execute_result"
    }
   ],
   "source": [
    "datan  = datapos.append(dataneg.sample(n=5000))\n",
    "datan.tail()"
   ]
  },
  {
   "cell_type": "code",
   "execution_count": 50,
   "metadata": {},
   "outputs": [],
   "source": [
    "data.to_csv('../data/interim/20newsgroup/datatopicsampled.csv')"
   ]
  },
  {
   "cell_type": "code",
   "execution_count": null,
   "metadata": {},
   "outputs": [],
   "source": []
  },
  {
   "cell_type": "code",
   "execution_count": 51,
   "metadata": {},
   "outputs": [],
   "source": [
    "import  h2o"
   ]
  },
  {
   "cell_type": "code",
   "execution_count": 52,
   "metadata": {},
   "outputs": [],
   "source": [
    "from h2o.estimators import H2OXGBoostEstimator, H2ODeepLearningEstimator,H2ORandomForestEstimator,H2OSupportVectorMachineEstimator"
   ]
  },
  {
   "cell_type": "code",
   "execution_count": 53,
   "metadata": {},
   "outputs": [
    {
     "name": "stdout",
     "output_type": "stream",
     "text": [
      "Checking whether there is an H2O instance running at http://localhost:54321 . connected.\n",
      "Warning: Your H2O cluster version is too old (6 months and 7 days)! Please download and install the latest version from http://h2o.ai/download/\n"
     ]
    },
    {
     "data": {
      "text/html": [
       "<div style=\"overflow:auto\"><table style=\"width:50%\"><tr><td>H2O cluster uptime:</td>\n",
       "<td>18 mins 11 secs</td></tr>\n",
       "<tr><td>H2O cluster timezone:</td>\n",
       "<td>Europe/Berlin</td></tr>\n",
       "<tr><td>H2O data parsing timezone:</td>\n",
       "<td>UTC</td></tr>\n",
       "<tr><td>H2O cluster version:</td>\n",
       "<td>3.28.0.3</td></tr>\n",
       "<tr><td>H2O cluster version age:</td>\n",
       "<td>6 months and 7 days !!!</td></tr>\n",
       "<tr><td>H2O cluster name:</td>\n",
       "<td>H2O_from_python_rdelaguila_x9q3d8</td></tr>\n",
       "<tr><td>H2O cluster total nodes:</td>\n",
       "<td>1</td></tr>\n",
       "<tr><td>H2O cluster free memory:</td>\n",
       "<td>13.97 Gb</td></tr>\n",
       "<tr><td>H2O cluster total cores:</td>\n",
       "<td>12</td></tr>\n",
       "<tr><td>H2O cluster allowed cores:</td>\n",
       "<td>12</td></tr>\n",
       "<tr><td>H2O cluster status:</td>\n",
       "<td>locked, healthy</td></tr>\n",
       "<tr><td>H2O connection url:</td>\n",
       "<td>http://localhost:54321</td></tr>\n",
       "<tr><td>H2O connection proxy:</td>\n",
       "<td>{'http': None, 'https': None}</td></tr>\n",
       "<tr><td>H2O internal security:</td>\n",
       "<td>False</td></tr>\n",
       "<tr><td>H2O API Extensions:</td>\n",
       "<td>Amazon S3, XGBoost, Algos, AutoML, Core V3, TargetEncoder, Core V4</td></tr>\n",
       "<tr><td>Python version:</td>\n",
       "<td>3.7.4 final</td></tr></table></div>"
      ],
      "text/plain": [
       "--------------------------  ------------------------------------------------------------------\n",
       "H2O cluster uptime:         18 mins 11 secs\n",
       "H2O cluster timezone:       Europe/Berlin\n",
       "H2O data parsing timezone:  UTC\n",
       "H2O cluster version:        3.28.0.3\n",
       "H2O cluster version age:    6 months and 7 days !!!\n",
       "H2O cluster name:           H2O_from_python_rdelaguila_x9q3d8\n",
       "H2O cluster total nodes:    1\n",
       "H2O cluster free memory:    13.97 Gb\n",
       "H2O cluster total cores:    12\n",
       "H2O cluster allowed cores:  12\n",
       "H2O cluster status:         locked, healthy\n",
       "H2O connection url:         http://localhost:54321\n",
       "H2O connection proxy:       {'http': None, 'https': None}\n",
       "H2O internal security:      False\n",
       "H2O API Extensions:         Amazon S3, XGBoost, Algos, AutoML, Core V3, TargetEncoder, Core V4\n",
       "Python version:             3.7.4 final\n",
       "--------------------------  ------------------------------------------------------------------"
      ]
     },
     "metadata": {},
     "output_type": "display_data"
    }
   ],
   "source": [
    "\n",
    "h2o.init(max_mem_size='14G')"
   ]
  },
  {
   "cell_type": "code",
   "execution_count": 54,
   "metadata": {},
   "outputs": [
    {
     "name": "stdout",
     "output_type": "stream",
     "text": [
      "Parse progress: |█████████████████████████████████████████████████████████| 100%\n"
     ]
    }
   ],
   "source": [
    "frame = h2o.upload_file('../data/interim/20newsgroup/datatopicsampled.csv',sep=',',header=1)"
   ]
  },
  {
   "cell_type": "code",
   "execution_count": 55,
   "metadata": {},
   "outputs": [
    {
     "data": {
      "text/html": [
       "<table>\n",
       "<thead>\n",
       "<tr><th style=\"text-align: right;\">  C1</th><th style=\"text-align: right;\">         A</th><th style=\"text-align: right;\">         B</th><th style=\"text-align: right;\">  Target</th></tr>\n",
       "</thead>\n",
       "<tbody>\n",
       "<tr><td style=\"text-align: right;\">   0</td><td style=\"text-align: right;\">0.996447  </td><td style=\"text-align: right;\">0.00355318</td><td style=\"text-align: right;\">       0</td></tr>\n",
       "<tr><td style=\"text-align: right;\">   1</td><td style=\"text-align: right;\">0.00382263</td><td style=\"text-align: right;\">0.996177  </td><td style=\"text-align: right;\">       1</td></tr>\n",
       "<tr><td style=\"text-align: right;\">   2</td><td style=\"text-align: right;\">0.997486  </td><td style=\"text-align: right;\">0.00251373</td><td style=\"text-align: right;\">       0</td></tr>\n",
       "<tr><td style=\"text-align: right;\">   3</td><td style=\"text-align: right;\">0.0037271 </td><td style=\"text-align: right;\">0.996273  </td><td style=\"text-align: right;\">       1</td></tr>\n",
       "<tr><td style=\"text-align: right;\">   4</td><td style=\"text-align: right;\">0.00366716</td><td style=\"text-align: right;\">0.996333  </td><td style=\"text-align: right;\">       0</td></tr>\n",
       "<tr><td style=\"text-align: right;\">   5</td><td style=\"text-align: right;\">0.483952  </td><td style=\"text-align: right;\">0.516048  </td><td style=\"text-align: right;\">       0</td></tr>\n",
       "<tr><td style=\"text-align: right;\">   6</td><td style=\"text-align: right;\">0.00416291</td><td style=\"text-align: right;\">0.995837  </td><td style=\"text-align: right;\">       0</td></tr>\n",
       "<tr><td style=\"text-align: right;\">   7</td><td style=\"text-align: right;\">0.996692  </td><td style=\"text-align: right;\">0.00330773</td><td style=\"text-align: right;\">       0</td></tr>\n",
       "<tr><td style=\"text-align: right;\">   8</td><td style=\"text-align: right;\">0.996387  </td><td style=\"text-align: right;\">0.00361251</td><td style=\"text-align: right;\">       0</td></tr>\n",
       "<tr><td style=\"text-align: right;\">   9</td><td style=\"text-align: right;\">0.995081  </td><td style=\"text-align: right;\">0.00491947</td><td style=\"text-align: right;\">       0</td></tr>\n",
       "</tbody>\n",
       "</table>"
      ]
     },
     "metadata": {},
     "output_type": "display_data"
    },
    {
     "data": {
      "text/plain": []
     },
     "execution_count": 55,
     "metadata": {},
     "output_type": "execute_result"
    }
   ],
   "source": [
    "frame.head()"
   ]
  },
  {
   "cell_type": "code",
   "execution_count": 56,
   "metadata": {},
   "outputs": [],
   "source": [
    "frame = frame.drop('C1')"
   ]
  },
  {
   "cell_type": "code",
   "execution_count": 57,
   "metadata": {},
   "outputs": [],
   "source": [
    "frame['target']=frame['Target'].asfactor()\n",
    "train,test=frame.split_frame(ratios=[.75])"
   ]
  },
  {
   "cell_type": "code",
   "execution_count": null,
   "metadata": {},
   "outputs": [],
   "source": []
  },
  {
   "cell_type": "code",
   "execution_count": 58,
   "metadata": {},
   "outputs": [
    {
     "name": "stdout",
     "output_type": "stream",
     "text": [
      "|   iter    |  target   | colsam... |    eta    | learn_... | max_depth | min_rows  |  ntrees   | reg_alpha | reg_la... | sample... |\n",
      "-------------------------------------------------------------------------------------------------------------------------------------\n",
      "xgboost Model Build progress: |███████████████████████████████████████████| 100%\n",
      "|  1        |  0.8277   |  0.3149   |  0.6259   |  0.4434   |  32.27    |  39.44    |  145.4    |  0.2765   |  0.8019   |  0.4833   |\n",
      "xgboost Model Build progress: |███████████████████████████████████████████| 100%\n",
      "|  2        |  0.7792   |  0.7256   |  0.3642   |  0.506    |  28.6     |  36.21    |  179.6    |  0.5612   |  0.5031   |  0.1055   |\n",
      "xgboost Model Build progress: |███████████████████████████████████████████| 100%\n",
      "|  3        |  0.9186   |  0.6637   |  0.8838   |  0.3712   |  26.15    |  5.618    |  179.1    |  0.9331   |  0.6514   |  0.2589   |\n",
      "xgboost Model Build progress: |███████████████████████████████████████████| 100%\n",
      "|  4        |  0.8572   |  0.6732   |  0.3237   |  0.5724   |  35.29    |  22.94    |  330.8    |  0.1438   |  0.7043   |  0.3818   |\n",
      "xgboost Model Build progress: |███████████████████████████████████████████| 100%\n",
      "|  5        |  0.9511   |  0.3313   |  0.9256   |  0.4477   |  36.74    |  4.871    |  114.5    |  0.04736  |  0.6749   |  0.3378   |\n",
      "xgboost Model Build progress: |███████████████████████████████████████████| 100%\n",
      "|  6        |  0.9789   |  0.2      |  1.0      |  0.01     |  4.0      |  2.0      |  400.0    |  1.0      |  0.0      |  0.5      |\n",
      "xgboost Model Build progress: |███████████████████████████████████████████| 100%\n",
      "|  7        |  0.8462   |  0.2      |  1.0      |  0.2528   |  4.0      |  2.0      |  50.0     |  1.0      |  1.0      |  0.5      |\n",
      "xgboost Model Build progress: |███████████████████████████████████████████| 100%\n",
      "|  8        |  0.8386   |  0.5599   |  0.1563   |  0.3325   |  39.01    |  3.586    |  115.3    |  0.7721   |  0.924    |  0.1745   |\n",
      "xgboost Model Build progress: |███████████████████████████████████████████| 100%\n",
      "|  9        |  0.9615   |  0.2      |  1.0      |  1.0      |  4.0      |  2.0      |  257.9    |  0.0      |  0.0      |  0.5      |\n",
      "xgboost Model Build progress: |███████████████████████████████████████████| 100%\n",
      "|  10       |  0.8197   |  0.2      |  1.0      |  1.0      |  4.0      |  50.0     |  86.79    |  0.0      |  0.0      |  0.5      |\n",
      "xgboost Model Build progress: |███████████████████████████████████████████| 100%\n",
      "|  11       |  0.8631   |  0.2      |  1.0      |  0.01     |  40.0     |  50.0     |  400.0    |  0.0      |  1.0      |  0.5      |\n",
      "xgboost Model Build progress: |███████████████████████████████████████████| 100%\n",
      "|  12       |  0.7833   |  0.749    |  0.6311   |  0.01046  |  38.53    |  49.91    |  268.4    |  0.8615   |  0.5996   |  0.165    |\n",
      "xgboost Model Build progress: |███████████████████████████████████████████| 100%\n",
      "|  13       |  0.9154   |  0.2      |  1.0      |  1.0      |  4.0      |  2.0      |  128.3    |  0.0      |  0.0      |  0.5      |\n",
      "xgboost Model Build progress: |███████████████████████████████████████████| 100%\n",
      "|  14       |  0.8114   |  0.2      |  1.0      |  1.0      |  40.0     |  50.0     |  50.0     |  0.0      |  0.0      |  0.5      |\n",
      "xgboost Model Build progress: |███████████████████████████████████████████| 100%\n",
      "|  15       |  0.7802   |  0.2      |  0.01     |  1.0      |  4.0      |  50.0     |  349.9    |  1.0      |  1.0      |  0.1      |\n",
      "=====================================================================================================================================\n"
     ]
    }
   ],
   "source": [
    "modelos = optimize_xgb(train)"
   ]
  },
  {
   "cell_type": "code",
   "execution_count": null,
   "metadata": {},
   "outputs": [],
   "source": []
  },
  {
   "cell_type": "code",
   "execution_count": null,
   "metadata": {},
   "outputs": [],
   "source": []
  },
  {
   "cell_type": "code",
   "execution_count": null,
   "metadata": {},
   "outputs": [],
   "source": []
  },
  {
   "cell_type": "code",
   "execution_count": 62,
   "metadata": {},
   "outputs": [
    {
     "name": "stdout",
     "output_type": "stream",
     "text": [
      "xgboost Model Build progress: |███████████████████████████████████████████| 100%\n"
     ]
    }
   ],
   "source": [
    "params = {'max_depth': int(27), 'ntrees': int(1179),'min_rows':int(50),'eta':float(0.8838),\n",
    "              'learn_rate':float(0.3712),'sample_rate':float(0.2589),\n",
    "              'colsample_bytree':float(0.6732),'reg_lambda':float(0.6514),'reg_alpha':float(0.9331)}\n",
    "\n",
    "params = {'max_depth': int(39), 'ntrees': int(115),'min_rows':int(4),'eta':float(0.1563),\n",
    "              'learn_rate':float(0.1745),'sample_rate':float(0.2589),\n",
    "              'colsample_bytree':float(0.5599),'reg_lambda':float(0.924),'reg_alpha':float(0.7721)}\n",
    "\n",
    "estimator = H2OXGBoostEstimator(**params)\n",
    "train['target'] = train['target'].asfactor()\n",
    "test['target'] = test['target'].asfactor()\n",
    "    \n",
    "estimator.train(x=['A','B'],y='target',training_frame=train,validation_frame=test)"
   ]
  },
  {
   "cell_type": "code",
   "execution_count": 63,
   "metadata": {},
   "outputs": [
    {
     "name": "stdout",
     "output_type": "stream",
     "text": [
      "\n",
      "ModelMetricsBinomial: xgboost\n",
      "** Reported on test data. **\n",
      "\n",
      "MSE: 0.044853556433073656\n",
      "RMSE: 0.21178658227818317\n",
      "LogLoss: 0.16990740556693018\n",
      "Mean Per-Class Error: 0.25093495102824925\n",
      "AUC: 0.7790587700374767\n",
      "AUCPR: 0.10554604342844462\n",
      "Gini: 0.5581175400749534\n",
      "\n",
      "Confusion Matrix (Act/Pred) for max f1 @ threshold = 0.08419267194611686: \n"
     ]
    },
    {
     "data": {
      "text/html": [
       "<div>\n",
       "<style scoped>\n",
       "    .dataframe tbody tr th:only-of-type {\n",
       "        vertical-align: middle;\n",
       "    }\n",
       "\n",
       "    .dataframe tbody tr th {\n",
       "        vertical-align: top;\n",
       "    }\n",
       "\n",
       "    .dataframe thead th {\n",
       "        text-align: right;\n",
       "    }\n",
       "</style>\n",
       "<table border=\"1\" class=\"dataframe\">\n",
       "  <thead>\n",
       "    <tr style=\"text-align: right;\">\n",
       "      <th></th>\n",
       "      <th></th>\n",
       "      <th>0</th>\n",
       "      <th>1</th>\n",
       "      <th>Error</th>\n",
       "      <th>Rate</th>\n",
       "    </tr>\n",
       "  </thead>\n",
       "  <tbody>\n",
       "    <tr>\n",
       "      <th>0</th>\n",
       "      <td>0</td>\n",
       "      <td>3439.0</td>\n",
       "      <td>1057.0</td>\n",
       "      <td>0.2351</td>\n",
       "      <td>(1057.0/4496.0)</td>\n",
       "    </tr>\n",
       "    <tr>\n",
       "      <th>1</th>\n",
       "      <td>1</td>\n",
       "      <td>84.0</td>\n",
       "      <td>142.0</td>\n",
       "      <td>0.3717</td>\n",
       "      <td>(84.0/226.0)</td>\n",
       "    </tr>\n",
       "    <tr>\n",
       "      <th>2</th>\n",
       "      <td>Total</td>\n",
       "      <td>3523.0</td>\n",
       "      <td>1199.0</td>\n",
       "      <td>0.2416</td>\n",
       "      <td>(1141.0/4722.0)</td>\n",
       "    </tr>\n",
       "  </tbody>\n",
       "</table>\n",
       "</div>"
      ],
      "text/plain": [
       "               0       1   Error              Rate\n",
       "0      0  3439.0  1057.0  0.2351   (1057.0/4496.0)\n",
       "1      1    84.0   142.0  0.3717      (84.0/226.0)\n",
       "2  Total  3523.0  1199.0  0.2416   (1141.0/4722.0)"
      ]
     },
     "metadata": {},
     "output_type": "display_data"
    },
    {
     "name": "stdout",
     "output_type": "stream",
     "text": [
      "\n",
      "Maximum Metrics: Maximum metrics at their respective thresholds\n"
     ]
    },
    {
     "data": {
      "text/html": [
       "<div>\n",
       "<style scoped>\n",
       "    .dataframe tbody tr th:only-of-type {\n",
       "        vertical-align: middle;\n",
       "    }\n",
       "\n",
       "    .dataframe tbody tr th {\n",
       "        vertical-align: top;\n",
       "    }\n",
       "\n",
       "    .dataframe thead th {\n",
       "        text-align: right;\n",
       "    }\n",
       "</style>\n",
       "<table border=\"1\" class=\"dataframe\">\n",
       "  <thead>\n",
       "    <tr style=\"text-align: right;\">\n",
       "      <th></th>\n",
       "      <th>metric</th>\n",
       "      <th>threshold</th>\n",
       "      <th>value</th>\n",
       "      <th>idx</th>\n",
       "    </tr>\n",
       "  </thead>\n",
       "  <tbody>\n",
       "    <tr>\n",
       "      <th>0</th>\n",
       "      <td>max f1</td>\n",
       "      <td>0.084193</td>\n",
       "      <td>0.199298</td>\n",
       "      <td>249.0</td>\n",
       "    </tr>\n",
       "    <tr>\n",
       "      <th>1</th>\n",
       "      <td>max f2</td>\n",
       "      <td>0.065806</td>\n",
       "      <td>0.354125</td>\n",
       "      <td>286.0</td>\n",
       "    </tr>\n",
       "    <tr>\n",
       "      <th>2</th>\n",
       "      <td>max f0point5</td>\n",
       "      <td>0.084193</td>\n",
       "      <td>0.141378</td>\n",
       "      <td>249.0</td>\n",
       "    </tr>\n",
       "    <tr>\n",
       "      <th>3</th>\n",
       "      <td>max accuracy</td>\n",
       "      <td>0.441429</td>\n",
       "      <td>0.951927</td>\n",
       "      <td>0.0</td>\n",
       "    </tr>\n",
       "    <tr>\n",
       "      <th>4</th>\n",
       "      <td>max precision</td>\n",
       "      <td>0.118319</td>\n",
       "      <td>0.122699</td>\n",
       "      <td>191.0</td>\n",
       "    </tr>\n",
       "    <tr>\n",
       "      <th>5</th>\n",
       "      <td>max recall</td>\n",
       "      <td>0.004621</td>\n",
       "      <td>1.000000</td>\n",
       "      <td>398.0</td>\n",
       "    </tr>\n",
       "    <tr>\n",
       "      <th>6</th>\n",
       "      <td>max specificity</td>\n",
       "      <td>0.441429</td>\n",
       "      <td>0.999778</td>\n",
       "      <td>0.0</td>\n",
       "    </tr>\n",
       "    <tr>\n",
       "      <th>7</th>\n",
       "      <td>max absolute_mcc</td>\n",
       "      <td>0.043928</td>\n",
       "      <td>0.214807</td>\n",
       "      <td>327.0</td>\n",
       "    </tr>\n",
       "    <tr>\n",
       "      <th>8</th>\n",
       "      <td>max min_per_class_accuracy</td>\n",
       "      <td>0.070956</td>\n",
       "      <td>0.715080</td>\n",
       "      <td>274.0</td>\n",
       "    </tr>\n",
       "    <tr>\n",
       "      <th>9</th>\n",
       "      <td>max mean_per_class_accuracy</td>\n",
       "      <td>0.031980</td>\n",
       "      <td>0.749065</td>\n",
       "      <td>344.0</td>\n",
       "    </tr>\n",
       "    <tr>\n",
       "      <th>10</th>\n",
       "      <td>max tns</td>\n",
       "      <td>0.441429</td>\n",
       "      <td>4495.000000</td>\n",
       "      <td>0.0</td>\n",
       "    </tr>\n",
       "    <tr>\n",
       "      <th>11</th>\n",
       "      <td>max fns</td>\n",
       "      <td>0.441429</td>\n",
       "      <td>226.000000</td>\n",
       "      <td>0.0</td>\n",
       "    </tr>\n",
       "    <tr>\n",
       "      <th>12</th>\n",
       "      <td>max fps</td>\n",
       "      <td>0.004524</td>\n",
       "      <td>4496.000000</td>\n",
       "      <td>399.0</td>\n",
       "    </tr>\n",
       "    <tr>\n",
       "      <th>13</th>\n",
       "      <td>max tps</td>\n",
       "      <td>0.004621</td>\n",
       "      <td>226.000000</td>\n",
       "      <td>398.0</td>\n",
       "    </tr>\n",
       "    <tr>\n",
       "      <th>14</th>\n",
       "      <td>max tnr</td>\n",
       "      <td>0.441429</td>\n",
       "      <td>0.999778</td>\n",
       "      <td>0.0</td>\n",
       "    </tr>\n",
       "    <tr>\n",
       "      <th>15</th>\n",
       "      <td>max fnr</td>\n",
       "      <td>0.441429</td>\n",
       "      <td>1.000000</td>\n",
       "      <td>0.0</td>\n",
       "    </tr>\n",
       "    <tr>\n",
       "      <th>16</th>\n",
       "      <td>max fpr</td>\n",
       "      <td>0.004524</td>\n",
       "      <td>1.000000</td>\n",
       "      <td>399.0</td>\n",
       "    </tr>\n",
       "    <tr>\n",
       "      <th>17</th>\n",
       "      <td>max tpr</td>\n",
       "      <td>0.004621</td>\n",
       "      <td>1.000000</td>\n",
       "      <td>398.0</td>\n",
       "    </tr>\n",
       "  </tbody>\n",
       "</table>\n",
       "</div>"
      ],
      "text/plain": [
       "                         metric  threshold        value    idx\n",
       "0                        max f1   0.084193     0.199298  249.0\n",
       "1                        max f2   0.065806     0.354125  286.0\n",
       "2                  max f0point5   0.084193     0.141378  249.0\n",
       "3                  max accuracy   0.441429     0.951927    0.0\n",
       "4                 max precision   0.118319     0.122699  191.0\n",
       "5                    max recall   0.004621     1.000000  398.0\n",
       "6               max specificity   0.441429     0.999778    0.0\n",
       "7              max absolute_mcc   0.043928     0.214807  327.0\n",
       "8    max min_per_class_accuracy   0.070956     0.715080  274.0\n",
       "9   max mean_per_class_accuracy   0.031980     0.749065  344.0\n",
       "10                      max tns   0.441429  4495.000000    0.0\n",
       "11                      max fns   0.441429   226.000000    0.0\n",
       "12                      max fps   0.004524  4496.000000  399.0\n",
       "13                      max tps   0.004621   226.000000  398.0\n",
       "14                      max tnr   0.441429     0.999778    0.0\n",
       "15                      max fnr   0.441429     1.000000    0.0\n",
       "16                      max fpr   0.004524     1.000000  399.0\n",
       "17                      max tpr   0.004621     1.000000  398.0"
      ]
     },
     "metadata": {},
     "output_type": "display_data"
    },
    {
     "name": "stdout",
     "output_type": "stream",
     "text": [
      "\n",
      "Gains/Lift Table: Avg response rate:  4.79 %, avg score:  5.42 %\n"
     ]
    },
    {
     "data": {
      "text/html": [
       "<div>\n",
       "<style scoped>\n",
       "    .dataframe tbody tr th:only-of-type {\n",
       "        vertical-align: middle;\n",
       "    }\n",
       "\n",
       "    .dataframe tbody tr th {\n",
       "        vertical-align: top;\n",
       "    }\n",
       "\n",
       "    .dataframe thead th {\n",
       "        text-align: right;\n",
       "    }\n",
       "</style>\n",
       "<table border=\"1\" class=\"dataframe\">\n",
       "  <thead>\n",
       "    <tr style=\"text-align: right;\">\n",
       "      <th></th>\n",
       "      <th></th>\n",
       "      <th>group</th>\n",
       "      <th>cumulative_data_fraction</th>\n",
       "      <th>lower_threshold</th>\n",
       "      <th>lift</th>\n",
       "      <th>cumulative_lift</th>\n",
       "      <th>response_rate</th>\n",
       "      <th>score</th>\n",
       "      <th>cumulative_response_rate</th>\n",
       "      <th>cumulative_score</th>\n",
       "      <th>capture_rate</th>\n",
       "      <th>cumulative_capture_rate</th>\n",
       "      <th>gain</th>\n",
       "      <th>cumulative_gain</th>\n",
       "    </tr>\n",
       "  </thead>\n",
       "  <tbody>\n",
       "    <tr>\n",
       "      <th>0</th>\n",
       "      <td></td>\n",
       "      <td>1</td>\n",
       "      <td>0.010589</td>\n",
       "      <td>0.289287</td>\n",
       "      <td>1.671504</td>\n",
       "      <td>1.671504</td>\n",
       "      <td>0.080000</td>\n",
       "      <td>0.339527</td>\n",
       "      <td>0.080000</td>\n",
       "      <td>0.339527</td>\n",
       "      <td>0.017699</td>\n",
       "      <td>0.017699</td>\n",
       "      <td>67.150442</td>\n",
       "      <td>67.150442</td>\n",
       "    </tr>\n",
       "    <tr>\n",
       "      <th>1</th>\n",
       "      <td></td>\n",
       "      <td>2</td>\n",
       "      <td>0.020119</td>\n",
       "      <td>0.246670</td>\n",
       "      <td>0.464307</td>\n",
       "      <td>1.099674</td>\n",
       "      <td>0.022222</td>\n",
       "      <td>0.267479</td>\n",
       "      <td>0.052632</td>\n",
       "      <td>0.305399</td>\n",
       "      <td>0.004425</td>\n",
       "      <td>0.022124</td>\n",
       "      <td>-53.569322</td>\n",
       "      <td>9.967396</td>\n",
       "    </tr>\n",
       "    <tr>\n",
       "      <th>2</th>\n",
       "      <td></td>\n",
       "      <td>3</td>\n",
       "      <td>0.030072</td>\n",
       "      <td>0.220097</td>\n",
       "      <td>2.222745</td>\n",
       "      <td>1.471395</td>\n",
       "      <td>0.106383</td>\n",
       "      <td>0.230622</td>\n",
       "      <td>0.070423</td>\n",
       "      <td>0.280649</td>\n",
       "      <td>0.022124</td>\n",
       "      <td>0.044248</td>\n",
       "      <td>122.274525</td>\n",
       "      <td>47.139474</td>\n",
       "    </tr>\n",
       "    <tr>\n",
       "      <th>3</th>\n",
       "      <td></td>\n",
       "      <td>4</td>\n",
       "      <td>0.040025</td>\n",
       "      <td>0.200543</td>\n",
       "      <td>3.111843</td>\n",
       "      <td>1.879337</td>\n",
       "      <td>0.148936</td>\n",
       "      <td>0.208757</td>\n",
       "      <td>0.089947</td>\n",
       "      <td>0.262771</td>\n",
       "      <td>0.030973</td>\n",
       "      <td>0.075221</td>\n",
       "      <td>211.184334</td>\n",
       "      <td>87.933699</td>\n",
       "    </tr>\n",
       "    <tr>\n",
       "      <th>4</th>\n",
       "      <td></td>\n",
       "      <td>5</td>\n",
       "      <td>0.050191</td>\n",
       "      <td>0.187201</td>\n",
       "      <td>1.741150</td>\n",
       "      <td>1.851350</td>\n",
       "      <td>0.083333</td>\n",
       "      <td>0.192944</td>\n",
       "      <td>0.088608</td>\n",
       "      <td>0.248629</td>\n",
       "      <td>0.017699</td>\n",
       "      <td>0.092920</td>\n",
       "      <td>74.115044</td>\n",
       "      <td>85.134984</td>\n",
       "    </tr>\n",
       "    <tr>\n",
       "      <th>5</th>\n",
       "      <td></td>\n",
       "      <td>6</td>\n",
       "      <td>0.100805</td>\n",
       "      <td>0.141719</td>\n",
       "      <td>2.972341</td>\n",
       "      <td>2.414200</td>\n",
       "      <td>0.142259</td>\n",
       "      <td>0.160863</td>\n",
       "      <td>0.115546</td>\n",
       "      <td>0.204561</td>\n",
       "      <td>0.150442</td>\n",
       "      <td>0.243363</td>\n",
       "      <td>197.234050</td>\n",
       "      <td>141.420019</td>\n",
       "    </tr>\n",
       "    <tr>\n",
       "      <th>6</th>\n",
       "      <td></td>\n",
       "      <td>7</td>\n",
       "      <td>0.151842</td>\n",
       "      <td>0.112648</td>\n",
       "      <td>2.514192</td>\n",
       "      <td>2.447810</td>\n",
       "      <td>0.120332</td>\n",
       "      <td>0.126231</td>\n",
       "      <td>0.117155</td>\n",
       "      <td>0.178233</td>\n",
       "      <td>0.128319</td>\n",
       "      <td>0.371681</td>\n",
       "      <td>151.419234</td>\n",
       "      <td>144.780983</td>\n",
       "    </tr>\n",
       "    <tr>\n",
       "      <th>7</th>\n",
       "      <td></td>\n",
       "      <td>8</td>\n",
       "      <td>0.200339</td>\n",
       "      <td>0.098575</td>\n",
       "      <td>2.007265</td>\n",
       "      <td>2.341166</td>\n",
       "      <td>0.096070</td>\n",
       "      <td>0.105404</td>\n",
       "      <td>0.112051</td>\n",
       "      <td>0.160603</td>\n",
       "      <td>0.097345</td>\n",
       "      <td>0.469027</td>\n",
       "      <td>100.726514</td>\n",
       "      <td>134.116635</td>\n",
       "    </tr>\n",
       "    <tr>\n",
       "      <th>8</th>\n",
       "      <td></td>\n",
       "      <td>9</td>\n",
       "      <td>0.300296</td>\n",
       "      <td>0.072035</td>\n",
       "      <td>2.301860</td>\n",
       "      <td>2.328083</td>\n",
       "      <td>0.110169</td>\n",
       "      <td>0.083814</td>\n",
       "      <td>0.111425</td>\n",
       "      <td>0.135043</td>\n",
       "      <td>0.230088</td>\n",
       "      <td>0.699115</td>\n",
       "      <td>130.185991</td>\n",
       "      <td>132.808268</td>\n",
       "    </tr>\n",
       "    <tr>\n",
       "      <th>9</th>\n",
       "      <td></td>\n",
       "      <td>10</td>\n",
       "      <td>0.400042</td>\n",
       "      <td>0.049764</td>\n",
       "      <td>1.641339</td>\n",
       "      <td>2.156851</td>\n",
       "      <td>0.078556</td>\n",
       "      <td>0.061336</td>\n",
       "      <td>0.103229</td>\n",
       "      <td>0.116665</td>\n",
       "      <td>0.163717</td>\n",
       "      <td>0.862832</td>\n",
       "      <td>64.133927</td>\n",
       "      <td>115.685126</td>\n",
       "    </tr>\n",
       "    <tr>\n",
       "      <th>10</th>\n",
       "      <td></td>\n",
       "      <td>11</td>\n",
       "      <td>0.503812</td>\n",
       "      <td>0.013487</td>\n",
       "      <td>0.810168</td>\n",
       "      <td>1.879476</td>\n",
       "      <td>0.038776</td>\n",
       "      <td>0.031736</td>\n",
       "      <td>0.089954</td>\n",
       "      <td>0.099172</td>\n",
       "      <td>0.084071</td>\n",
       "      <td>0.946903</td>\n",
       "      <td>-18.983204</td>\n",
       "      <td>87.947639</td>\n",
       "    </tr>\n",
       "    <tr>\n",
       "      <th>11</th>\n",
       "      <td></td>\n",
       "      <td>12</td>\n",
       "      <td>0.600805</td>\n",
       "      <td>0.010500</td>\n",
       "      <td>0.182479</td>\n",
       "      <td>1.605516</td>\n",
       "      <td>0.008734</td>\n",
       "      <td>0.011674</td>\n",
       "      <td>0.076842</td>\n",
       "      <td>0.085047</td>\n",
       "      <td>0.017699</td>\n",
       "      <td>0.964602</td>\n",
       "      <td>-81.752135</td>\n",
       "      <td>60.551623</td>\n",
       "    </tr>\n",
       "    <tr>\n",
       "      <th>12</th>\n",
       "      <td></td>\n",
       "      <td>13</td>\n",
       "      <td>0.703515</td>\n",
       "      <td>0.009557</td>\n",
       "      <td>0.129240</td>\n",
       "      <td>1.389985</td>\n",
       "      <td>0.006186</td>\n",
       "      <td>0.009965</td>\n",
       "      <td>0.066526</td>\n",
       "      <td>0.074085</td>\n",
       "      <td>0.013274</td>\n",
       "      <td>0.977876</td>\n",
       "      <td>-87.075997</td>\n",
       "      <td>38.998524</td>\n",
       "    </tr>\n",
       "    <tr>\n",
       "      <th>13</th>\n",
       "      <td></td>\n",
       "      <td>14</td>\n",
       "      <td>0.800296</td>\n",
       "      <td>0.008267</td>\n",
       "      <td>0.045719</td>\n",
       "      <td>1.227421</td>\n",
       "      <td>0.002188</td>\n",
       "      <td>0.008993</td>\n",
       "      <td>0.058746</td>\n",
       "      <td>0.066213</td>\n",
       "      <td>0.004425</td>\n",
       "      <td>0.982301</td>\n",
       "      <td>-95.428051</td>\n",
       "      <td>22.742122</td>\n",
       "    </tr>\n",
       "    <tr>\n",
       "      <th>14</th>\n",
       "      <td></td>\n",
       "      <td>15</td>\n",
       "      <td>0.907454</td>\n",
       "      <td>0.005802</td>\n",
       "      <td>0.082584</td>\n",
       "      <td>1.092232</td>\n",
       "      <td>0.003953</td>\n",
       "      <td>0.007233</td>\n",
       "      <td>0.052275</td>\n",
       "      <td>0.059249</td>\n",
       "      <td>0.008850</td>\n",
       "      <td>0.991150</td>\n",
       "      <td>-91.741579</td>\n",
       "      <td>9.223160</td>\n",
       "    </tr>\n",
       "    <tr>\n",
       "      <th>15</th>\n",
       "      <td></td>\n",
       "      <td>16</td>\n",
       "      <td>1.000000</td>\n",
       "      <td>0.004510</td>\n",
       "      <td>0.095624</td>\n",
       "      <td>1.000000</td>\n",
       "      <td>0.004577</td>\n",
       "      <td>0.004958</td>\n",
       "      <td>0.047861</td>\n",
       "      <td>0.054224</td>\n",
       "      <td>0.008850</td>\n",
       "      <td>1.000000</td>\n",
       "      <td>-90.437618</td>\n",
       "      <td>0.000000</td>\n",
       "    </tr>\n",
       "  </tbody>\n",
       "</table>\n",
       "</div>"
      ],
      "text/plain": [
       "      group  cumulative_data_fraction  lower_threshold      lift  \\\n",
       "0         1                  0.010589         0.289287  1.671504   \n",
       "1         2                  0.020119         0.246670  0.464307   \n",
       "2         3                  0.030072         0.220097  2.222745   \n",
       "3         4                  0.040025         0.200543  3.111843   \n",
       "4         5                  0.050191         0.187201  1.741150   \n",
       "5         6                  0.100805         0.141719  2.972341   \n",
       "6         7                  0.151842         0.112648  2.514192   \n",
       "7         8                  0.200339         0.098575  2.007265   \n",
       "8         9                  0.300296         0.072035  2.301860   \n",
       "9        10                  0.400042         0.049764  1.641339   \n",
       "10       11                  0.503812         0.013487  0.810168   \n",
       "11       12                  0.600805         0.010500  0.182479   \n",
       "12       13                  0.703515         0.009557  0.129240   \n",
       "13       14                  0.800296         0.008267  0.045719   \n",
       "14       15                  0.907454         0.005802  0.082584   \n",
       "15       16                  1.000000         0.004510  0.095624   \n",
       "\n",
       "    cumulative_lift  response_rate     score  cumulative_response_rate  \\\n",
       "0          1.671504       0.080000  0.339527                  0.080000   \n",
       "1          1.099674       0.022222  0.267479                  0.052632   \n",
       "2          1.471395       0.106383  0.230622                  0.070423   \n",
       "3          1.879337       0.148936  0.208757                  0.089947   \n",
       "4          1.851350       0.083333  0.192944                  0.088608   \n",
       "5          2.414200       0.142259  0.160863                  0.115546   \n",
       "6          2.447810       0.120332  0.126231                  0.117155   \n",
       "7          2.341166       0.096070  0.105404                  0.112051   \n",
       "8          2.328083       0.110169  0.083814                  0.111425   \n",
       "9          2.156851       0.078556  0.061336                  0.103229   \n",
       "10         1.879476       0.038776  0.031736                  0.089954   \n",
       "11         1.605516       0.008734  0.011674                  0.076842   \n",
       "12         1.389985       0.006186  0.009965                  0.066526   \n",
       "13         1.227421       0.002188  0.008993                  0.058746   \n",
       "14         1.092232       0.003953  0.007233                  0.052275   \n",
       "15         1.000000       0.004577  0.004958                  0.047861   \n",
       "\n",
       "    cumulative_score  capture_rate  cumulative_capture_rate        gain  \\\n",
       "0           0.339527      0.017699                 0.017699   67.150442   \n",
       "1           0.305399      0.004425                 0.022124  -53.569322   \n",
       "2           0.280649      0.022124                 0.044248  122.274525   \n",
       "3           0.262771      0.030973                 0.075221  211.184334   \n",
       "4           0.248629      0.017699                 0.092920   74.115044   \n",
       "5           0.204561      0.150442                 0.243363  197.234050   \n",
       "6           0.178233      0.128319                 0.371681  151.419234   \n",
       "7           0.160603      0.097345                 0.469027  100.726514   \n",
       "8           0.135043      0.230088                 0.699115  130.185991   \n",
       "9           0.116665      0.163717                 0.862832   64.133927   \n",
       "10          0.099172      0.084071                 0.946903  -18.983204   \n",
       "11          0.085047      0.017699                 0.964602  -81.752135   \n",
       "12          0.074085      0.013274                 0.977876  -87.075997   \n",
       "13          0.066213      0.004425                 0.982301  -95.428051   \n",
       "14          0.059249      0.008850                 0.991150  -91.741579   \n",
       "15          0.054224      0.008850                 1.000000  -90.437618   \n",
       "\n",
       "    cumulative_gain  \n",
       "0         67.150442  \n",
       "1          9.967396  \n",
       "2         47.139474  \n",
       "3         87.933699  \n",
       "4         85.134984  \n",
       "5        141.420019  \n",
       "6        144.780983  \n",
       "7        134.116635  \n",
       "8        132.808268  \n",
       "9        115.685126  \n",
       "10        87.947639  \n",
       "11        60.551623  \n",
       "12        38.998524  \n",
       "13        22.742122  \n",
       "14         9.223160  \n",
       "15         0.000000  "
      ]
     },
     "metadata": {},
     "output_type": "display_data"
    },
    {
     "name": "stdout",
     "output_type": "stream",
     "text": [
      "\n"
     ]
    },
    {
     "data": {
      "text/plain": []
     },
     "execution_count": 63,
     "metadata": {},
     "output_type": "execute_result"
    }
   ],
   "source": [
    "performance = estimator.model_performance(test)\n",
    "performance"
   ]
  },
  {
   "cell_type": "code",
   "execution_count": null,
   "metadata": {},
   "outputs": [],
   "source": []
  },
  {
   "cell_type": "markdown",
   "metadata": {},
   "source": [
    "# Analisis de anomalias"
   ]
  },
  {
   "cell_type": "markdown",
   "metadata": {},
   "source": [
    "## Añadimos probabilidad de pertenencia\n"
   ]
  },
  {
   "cell_type": "code",
   "execution_count": 29,
   "metadata": {},
   "outputs": [],
   "source": [
    "import joblib\n",
    "LDA = joblib.load('../objects/20newsgroup/LDA.final')\n",
    "dtm = joblib.load('../objects/20newsgroup/dtm.final')"
   ]
  },
  {
   "cell_type": "code",
   "execution_count": 30,
   "metadata": {},
   "outputs": [],
   "source": [
    "topic_results = LDA.fit_transform(dtm)\n",
    "corpus['Topic']=topic_results.argmax(axis=1)\n",
    "corpus['prob_topic']=topic_results[:,1]"
   ]
  },
  {
   "cell_type": "code",
   "execution_count": 31,
   "metadata": {},
   "outputs": [],
   "source": [
    "corpus.to_pickle('../data/processed/20newsgroup/corpus.gzip',compression='gzip')"
   ]
  },
  {
   "cell_type": "code",
   "execution_count": 5,
   "metadata": {},
   "outputs": [],
   "source": [
    "corpus = pd.read_pickle('../data/processed/20newsgroup/corpus.gzip',compression='gzip')"
   ]
  },
  {
   "cell_type": "code",
   "execution_count": 7,
   "metadata": {},
   "outputs": [
    {
     "data": {
      "text/html": [
       "<div>\n",
       "<style scoped>\n",
       "    .dataframe tbody tr th:only-of-type {\n",
       "        vertical-align: middle;\n",
       "    }\n",
       "\n",
       "    .dataframe tbody tr th {\n",
       "        vertical-align: top;\n",
       "    }\n",
       "\n",
       "    .dataframe thead th {\n",
       "        text-align: right;\n",
       "    }\n",
       "</style>\n",
       "<table border=\"1\" class=\"dataframe\">\n",
       "  <thead>\n",
       "    <tr style=\"text-align: right;\">\n",
       "      <th></th>\n",
       "      <th>cleaned_text</th>\n",
       "      <th>Target</th>\n",
       "      <th>Topic</th>\n",
       "      <th>prob_topic</th>\n",
       "    </tr>\n",
       "  </thead>\n",
       "  <tbody>\n",
       "    <tr>\n",
       "      <th>0</th>\n",
       "      <td>organization post office carnegie mellon pitts...</td>\n",
       "      <td>0</td>\n",
       "      <td>1</td>\n",
       "      <td>0.997507</td>\n",
       "    </tr>\n",
       "    <tr>\n",
       "      <th>1</th>\n",
       "      <td>summary seek recommendation vlb video card nnt...</td>\n",
       "      <td>1</td>\n",
       "      <td>1</td>\n",
       "      <td>0.997566</td>\n",
       "    </tr>\n",
       "    <tr>\n",
       "      <th>2</th>\n",
       "      <td>line 95 nntp post host viktoria.dsv.su.se orga...</td>\n",
       "      <td>0</td>\n",
       "      <td>0</td>\n",
       "      <td>0.001600</td>\n",
       "    </tr>\n",
       "    <tr>\n",
       "      <th>3</th>\n",
       "      <td>originator guyd pal500.austin.ibm.com organiza...</td>\n",
       "      <td>1</td>\n",
       "      <td>1</td>\n",
       "      <td>0.997804</td>\n",
       "    </tr>\n",
       "    <tr>\n",
       "      <th>4</th>\n",
       "      <td>organization sophomore mechanical engineer car...</td>\n",
       "      <td>0</td>\n",
       "      <td>1</td>\n",
       "      <td>0.997406</td>\n",
       "    </tr>\n",
       "  </tbody>\n",
       "</table>\n",
       "</div>"
      ],
      "text/plain": [
       "                                        cleaned_text  Target  Topic  \\\n",
       "0  organization post office carnegie mellon pitts...       0      1   \n",
       "1  summary seek recommendation vlb video card nnt...       1      1   \n",
       "2  line 95 nntp post host viktoria.dsv.su.se orga...       0      0   \n",
       "3  originator guyd pal500.austin.ibm.com organiza...       1      1   \n",
       "4  organization sophomore mechanical engineer car...       0      1   \n",
       "\n",
       "   prob_topic  \n",
       "0    0.997507  \n",
       "1    0.997566  \n",
       "2    0.001600  \n",
       "3    0.997804  \n",
       "4    0.997406  "
      ]
     },
     "execution_count": 7,
     "metadata": {},
     "output_type": "execute_result"
    }
   ],
   "source": [
    "corpus.head()"
   ]
  },
  {
   "cell_type": "code",
   "execution_count": 32,
   "metadata": {},
   "outputs": [
    {
     "data": {
      "text/html": [
       "<div>\n",
       "<style scoped>\n",
       "    .dataframe tbody tr th:only-of-type {\n",
       "        vertical-align: middle;\n",
       "    }\n",
       "\n",
       "    .dataframe tbody tr th {\n",
       "        vertical-align: top;\n",
       "    }\n",
       "\n",
       "    .dataframe thead th {\n",
       "        text-align: right;\n",
       "    }\n",
       "</style>\n",
       "<table border=\"1\" class=\"dataframe\">\n",
       "  <thead>\n",
       "    <tr style=\"text-align: right;\">\n",
       "      <th></th>\n",
       "      <th>cleaned_text</th>\n",
       "      <th>Target</th>\n",
       "      <th>Topic</th>\n",
       "      <th>prob_topic</th>\n",
       "    </tr>\n",
       "  </thead>\n",
       "  <tbody>\n",
       "    <tr>\n",
       "      <th>0</th>\n",
       "      <td>organization post office carnegie mellon pitts...</td>\n",
       "      <td>0</td>\n",
       "      <td>1</td>\n",
       "      <td>0.997507</td>\n",
       "    </tr>\n",
       "    <tr>\n",
       "      <th>1</th>\n",
       "      <td>summary seek recommendation vlb video card nnt...</td>\n",
       "      <td>1</td>\n",
       "      <td>1</td>\n",
       "      <td>0.997566</td>\n",
       "    </tr>\n",
       "    <tr>\n",
       "      <th>2</th>\n",
       "      <td>line 95 nntp post host viktoria.dsv.su.se orga...</td>\n",
       "      <td>0</td>\n",
       "      <td>0</td>\n",
       "      <td>0.001600</td>\n",
       "    </tr>\n",
       "    <tr>\n",
       "      <th>3</th>\n",
       "      <td>originator guyd pal500.austin.ibm.com organiza...</td>\n",
       "      <td>1</td>\n",
       "      <td>1</td>\n",
       "      <td>0.997804</td>\n",
       "    </tr>\n",
       "    <tr>\n",
       "      <th>4</th>\n",
       "      <td>organization sophomore mechanical engineer car...</td>\n",
       "      <td>0</td>\n",
       "      <td>1</td>\n",
       "      <td>0.997406</td>\n",
       "    </tr>\n",
       "  </tbody>\n",
       "</table>\n",
       "</div>"
      ],
      "text/plain": [
       "                                        cleaned_text  Target  Topic  \\\n",
       "0  organization post office carnegie mellon pitts...       0      1   \n",
       "1  summary seek recommendation vlb video card nnt...       1      1   \n",
       "2  line 95 nntp post host viktoria.dsv.su.se orga...       0      0   \n",
       "3  originator guyd pal500.austin.ibm.com organiza...       1      1   \n",
       "4  organization sophomore mechanical engineer car...       0      1   \n",
       "\n",
       "   prob_topic  \n",
       "0    0.997507  \n",
       "1    0.997566  \n",
       "2    0.001600  \n",
       "3    0.997804  \n",
       "4    0.997406  "
      ]
     },
     "execution_count": 32,
     "metadata": {},
     "output_type": "execute_result"
    }
   ],
   "source": [
    "corpus.head()"
   ]
  },
  {
   "cell_type": "markdown",
   "metadata": {},
   "source": [
    "## IQR"
   ]
  },
  {
   "cell_type": "code",
   "execution_count": 8,
   "metadata": {},
   "outputs": [],
   "source": [
    "q1, q3= np.percentile(corpus.loc[corpus.Topic==1,'prob_topic'],[25,75])"
   ]
  },
  {
   "cell_type": "code",
   "execution_count": 9,
   "metadata": {},
   "outputs": [],
   "source": [
    "iqr = q3-q1\n",
    "lower_bound = q1 -(1.5 * iqr) \n",
    "upper_bound = q3 +(1.5 * iqr) "
   ]
  },
  {
   "cell_type": "code",
   "execution_count": 10,
   "metadata": {},
   "outputs": [
    {
     "data": {
      "text/plain": [
       "0.9969118960073621"
      ]
     },
     "execution_count": 10,
     "metadata": {},
     "output_type": "execute_result"
    }
   ],
   "source": [
    "q1"
   ]
  },
  {
   "cell_type": "code",
   "execution_count": 11,
   "metadata": {},
   "outputs": [
    {
     "data": {
      "text/plain": [
       "0.9978440569865402"
      ]
     },
     "execution_count": 11,
     "metadata": {},
     "output_type": "execute_result"
    }
   ],
   "source": [
    "q3"
   ]
  },
  {
   "cell_type": "code",
   "execution_count": 12,
   "metadata": {},
   "outputs": [
    {
     "data": {
      "text/plain": [
       "0.0009321609791781427"
      ]
     },
     "execution_count": 12,
     "metadata": {},
     "output_type": "execute_result"
    }
   ],
   "source": [
    "iqr"
   ]
  },
  {
   "cell_type": "code",
   "execution_count": 13,
   "metadata": {},
   "outputs": [
    {
     "data": {
      "text/plain": [
       "0.9955136545385949"
      ]
     },
     "execution_count": 13,
     "metadata": {},
     "output_type": "execute_result"
    }
   ],
   "source": [
    "lower_bound"
   ]
  },
  {
   "cell_type": "code",
   "execution_count": 14,
   "metadata": {},
   "outputs": [
    {
     "data": {
      "text/plain": [
       "0.9992422984553074"
      ]
     },
     "execution_count": 14,
     "metadata": {},
     "output_type": "execute_result"
    }
   ],
   "source": [
    "upper_bound"
   ]
  },
  {
   "cell_type": "code",
   "execution_count": 15,
   "metadata": {},
   "outputs": [
    {
     "data": {
      "text/html": [
       "<div>\n",
       "<style scoped>\n",
       "    .dataframe tbody tr th:only-of-type {\n",
       "        vertical-align: middle;\n",
       "    }\n",
       "\n",
       "    .dataframe tbody tr th {\n",
       "        vertical-align: top;\n",
       "    }\n",
       "\n",
       "    .dataframe thead th {\n",
       "        text-align: right;\n",
       "    }\n",
       "</style>\n",
       "<table border=\"1\" class=\"dataframe\">\n",
       "  <thead>\n",
       "    <tr style=\"text-align: right;\">\n",
       "      <th></th>\n",
       "      <th>cleaned_text</th>\n",
       "      <th>Target</th>\n",
       "      <th>Topic</th>\n",
       "      <th>prob_topic</th>\n",
       "    </tr>\n",
       "  </thead>\n",
       "  <tbody>\n",
       "    <tr>\n",
       "      <th>0</th>\n",
       "      <td>organization post office carnegie mellon pitts...</td>\n",
       "      <td>0</td>\n",
       "      <td>1</td>\n",
       "      <td>0.997507</td>\n",
       "    </tr>\n",
       "    <tr>\n",
       "      <th>1</th>\n",
       "      <td>summary seek recommendation vlb video card nnt...</td>\n",
       "      <td>1</td>\n",
       "      <td>1</td>\n",
       "      <td>0.997566</td>\n",
       "    </tr>\n",
       "    <tr>\n",
       "      <th>2</th>\n",
       "      <td>line 95 nntp post host viktoria.dsv.su.se orga...</td>\n",
       "      <td>0</td>\n",
       "      <td>0</td>\n",
       "      <td>0.001600</td>\n",
       "    </tr>\n",
       "    <tr>\n",
       "      <th>3</th>\n",
       "      <td>originator guyd pal500.austin.ibm.com organiza...</td>\n",
       "      <td>1</td>\n",
       "      <td>1</td>\n",
       "      <td>0.997804</td>\n",
       "    </tr>\n",
       "    <tr>\n",
       "      <th>4</th>\n",
       "      <td>organization sophomore mechanical engineer car...</td>\n",
       "      <td>0</td>\n",
       "      <td>1</td>\n",
       "      <td>0.997406</td>\n",
       "    </tr>\n",
       "  </tbody>\n",
       "</table>\n",
       "</div>"
      ],
      "text/plain": [
       "                                        cleaned_text  Target  Topic  \\\n",
       "0  organization post office carnegie mellon pitts...       0      1   \n",
       "1  summary seek recommendation vlb video card nnt...       1      1   \n",
       "2  line 95 nntp post host viktoria.dsv.su.se orga...       0      0   \n",
       "3  originator guyd pal500.austin.ibm.com organiza...       1      1   \n",
       "4  organization sophomore mechanical engineer car...       0      1   \n",
       "\n",
       "   prob_topic  \n",
       "0    0.997507  \n",
       "1    0.997566  \n",
       "2    0.001600  \n",
       "3    0.997804  \n",
       "4    0.997406  "
      ]
     },
     "execution_count": 15,
     "metadata": {},
     "output_type": "execute_result"
    }
   ],
   "source": [
    "corpus.head()"
   ]
  },
  {
   "cell_type": "code",
   "execution_count": 16,
   "metadata": {},
   "outputs": [],
   "source": [
    "corpus['outlier_iqr']=(corpus.Topic==1) & (corpus.prob_topic<lower_bound)"
   ]
  },
  {
   "cell_type": "code",
   "execution_count": 18,
   "metadata": {},
   "outputs": [
    {
     "data": {
      "text/html": [
       "<div>\n",
       "<style scoped>\n",
       "    .dataframe tbody tr th:only-of-type {\n",
       "        vertical-align: middle;\n",
       "    }\n",
       "\n",
       "    .dataframe tbody tr th {\n",
       "        vertical-align: top;\n",
       "    }\n",
       "\n",
       "    .dataframe thead th {\n",
       "        text-align: right;\n",
       "    }\n",
       "</style>\n",
       "<table border=\"1\" class=\"dataframe\">\n",
       "  <thead>\n",
       "    <tr style=\"text-align: right;\">\n",
       "      <th></th>\n",
       "      <th>cleaned_text</th>\n",
       "      <th>Target</th>\n",
       "      <th>Topic</th>\n",
       "      <th>prob_topic</th>\n",
       "      <th>outlier_iqr</th>\n",
       "    </tr>\n",
       "  </thead>\n",
       "  <tbody>\n",
       "    <tr>\n",
       "      <th>0</th>\n",
       "      <td>organization post office carnegie mellon pitts...</td>\n",
       "      <td>0</td>\n",
       "      <td>1</td>\n",
       "      <td>0.997507</td>\n",
       "      <td>False</td>\n",
       "    </tr>\n",
       "    <tr>\n",
       "      <th>1</th>\n",
       "      <td>summary seek recommendation vlb video card nnt...</td>\n",
       "      <td>1</td>\n",
       "      <td>1</td>\n",
       "      <td>0.997566</td>\n",
       "      <td>False</td>\n",
       "    </tr>\n",
       "    <tr>\n",
       "      <th>2</th>\n",
       "      <td>line 95 nntp post host viktoria.dsv.su.se orga...</td>\n",
       "      <td>0</td>\n",
       "      <td>0</td>\n",
       "      <td>0.001600</td>\n",
       "      <td>False</td>\n",
       "    </tr>\n",
       "    <tr>\n",
       "      <th>3</th>\n",
       "      <td>originator guyd pal500.austin.ibm.com organiza...</td>\n",
       "      <td>1</td>\n",
       "      <td>1</td>\n",
       "      <td>0.997804</td>\n",
       "      <td>False</td>\n",
       "    </tr>\n",
       "    <tr>\n",
       "      <th>4</th>\n",
       "      <td>organization sophomore mechanical engineer car...</td>\n",
       "      <td>0</td>\n",
       "      <td>1</td>\n",
       "      <td>0.997406</td>\n",
       "      <td>False</td>\n",
       "    </tr>\n",
       "  </tbody>\n",
       "</table>\n",
       "</div>"
      ],
      "text/plain": [
       "                                        cleaned_text  Target  Topic  \\\n",
       "0  organization post office carnegie mellon pitts...       0      1   \n",
       "1  summary seek recommendation vlb video card nnt...       1      1   \n",
       "2  line 95 nntp post host viktoria.dsv.su.se orga...       0      0   \n",
       "3  originator guyd pal500.austin.ibm.com organiza...       1      1   \n",
       "4  organization sophomore mechanical engineer car...       0      1   \n",
       "\n",
       "   prob_topic  outlier_iqr  \n",
       "0    0.997507        False  \n",
       "1    0.997566        False  \n",
       "2    0.001600        False  \n",
       "3    0.997804        False  \n",
       "4    0.997406        False  "
      ]
     },
     "execution_count": 18,
     "metadata": {},
     "output_type": "execute_result"
    }
   ],
   "source": [
    "corpus.head()"
   ]
  },
  {
   "cell_type": "code",
   "execution_count": 61,
   "metadata": {},
   "outputs": [],
   "source": []
  },
  {
   "cell_type": "code",
   "execution_count": null,
   "metadata": {},
   "outputs": [],
   "source": [
    "## Reorganización del corpus"
   ]
  },
  {
   "cell_type": "code",
   "execution_count": 19,
   "metadata": {},
   "outputs": [],
   "source": [
    "corpus['new_target']=0"
   ]
  },
  {
   "cell_type": "code",
   "execution_count": 20,
   "metadata": {},
   "outputs": [],
   "source": [
    "corpus.loc[corpus.outlier_iqr==True,'new_target']=2\n",
    "corpus.loc[corpus.Topic==1 &(corpus.outlier_iqr==False),'new_target']=1\n",
    "corpus.loc[(corpus.Topic==0) & (corpus.outlier_iqr==False),'new_target']=0"
   ]
  },
  {
   "cell_type": "markdown",
   "metadata": {},
   "source": [
    "En este caso no han existido outliers..."
   ]
  },
  {
   "cell_type": "code",
   "execution_count": 21,
   "metadata": {},
   "outputs": [
    {
     "data": {
      "text/plain": [
       "['../data/processed/20newsgroup/corpus_reordered.final.pck']"
      ]
     },
     "execution_count": 21,
     "metadata": {},
     "output_type": "execute_result"
    }
   ],
   "source": [
    "joblib.dump(corpus,'../data/processed/20newsgroup/corpus_reordered.final.pck')"
   ]
  },
  {
   "cell_type": "code",
   "execution_count": 121,
   "metadata": {},
   "outputs": [
    {
     "name": "stderr",
     "output_type": "stream",
     "text": [
      "'c' argument looks like a single numeric RGB or RGBA sequence, which should be avoided as value-mapping will have precedence in case its length matches with 'x' & 'y'.  Please use a 2-D array with a single row if you really want to specify the same RGB or RGBA value for all points.\n",
      "'c' argument looks like a single numeric RGB or RGBA sequence, which should be avoided as value-mapping will have precedence in case its length matches with 'x' & 'y'.  Please use a 2-D array with a single row if you really want to specify the same RGB or RGBA value for all points.\n"
     ]
    },
    {
     "data": {
      "text/plain": [
       "TSNEVisualizer(alpha=0.7,\n",
       "        ax=<matplotlib.axes._subplots.AxesSubplot object at 0x7fc8a82ab150>,\n",
       "        classes=None, colormap=None, colors=None, decompose=None,\n",
       "        decompose_by=None, labels=None, random_state=None)"
      ]
     },
     "execution_count": 121,
     "metadata": {},
     "output_type": "execute_result"
    },
    {
     "data": {
      "image/png": "[encoded data removed]",
      "text/plain": [
       "<Figure size 576x396 with 1 Axes>"
      ]
     },
     "metadata": {},
     "output_type": "display_data"
    }
   ],
   "source": [
    "from yellowbrick.text import TSNEVisualizer\n",
    "from sklearn.feature_extraction.text import TfidfVectorizer\n",
    "\n",
    "#Definimos el corpus y las etiquetas que nos ayudar��n en el split del train y test\n",
    "tsne = TSNEVisualizer()\n",
    "tsne.fit(dtm, corpus.iloc[:,1])\n"
   ]
  },
  {
   "cell_type": "code",
   "execution_count": 123,
   "metadata": {},
   "outputs": [
    {
     "data": {
      "text/plain": [
       "<matplotlib.axes._subplots.AxesSubplot at 0x7fc8a82ab150>"
      ]
     },
     "execution_count": 123,
     "metadata": {},
     "output_type": "execute_result"
    }
   ],
   "source": [
    "tsne.poof()"
   ]
  },
  {
   "cell_type": "code",
   "execution_count": 127,
   "metadata": {},
   "outputs": [
    {
     "ename": "NameError",
     "evalue": "name 'TF_vocabulary' is not defined",
     "output_type": "error",
     "traceback": [
      "\u001b[0;31m---------------------------------------------------------------------------\u001b[0m",
      "\u001b[0;31mNameError\u001b[0m                                 Traceback (most recent call last)",
      "\u001b[0;32m<ipython-input-127-bbf9069a8ecd>\u001b[0m in \u001b[0;36m<module>\u001b[0;34m\u001b[0m\n\u001b[1;32m      7\u001b[0m     \u001b[0;31m#plt.plot(freqs[inds[:n]])\u001b[0m\u001b[0;34m\u001b[0m\u001b[0;34m\u001b[0m\u001b[0;34m\u001b[0m\u001b[0m\n\u001b[1;32m      8\u001b[0m \u001b[0;34m\u001b[0m\u001b[0m\n\u001b[0;32m----> 9\u001b[0;31m     \u001b[0mplt\u001b[0m\u001b[0;34m.\u001b[0m\u001b[0mbarh\u001b[0m\u001b[0;34m(\u001b[0m\u001b[0mnp\u001b[0m\u001b[0;34m.\u001b[0m\u001b[0marray\u001b[0m\u001b[0;34m(\u001b[0m\u001b[0mTF_vocabulary\u001b[0m\u001b[0;34m)\u001b[0m\u001b[0;34m[\u001b[0m\u001b[0minds\u001b[0m\u001b[0;34m[\u001b[0m\u001b[0;34m:\u001b[0m\u001b[0mn\u001b[0m\u001b[0;34m]\u001b[0m\u001b[0;34m]\u001b[0m\u001b[0;34m,\u001b[0m\u001b[0mfreqs\u001b[0m\u001b[0;34m[\u001b[0m\u001b[0minds\u001b[0m\u001b[0;34m[\u001b[0m\u001b[0;34m:\u001b[0m\u001b[0mn\u001b[0m\u001b[0;34m]\u001b[0m\u001b[0;34m]\u001b[0m \u001b[0;34m)\u001b[0m\u001b[0;34m\u001b[0m\u001b[0;34m\u001b[0m\u001b[0m\n\u001b[0m\u001b[1;32m     10\u001b[0m     \u001b[0;31m#plt.xticks(range(n), np.array(TF_vocabulary)[inds[:n]], rotation=75)\u001b[0m\u001b[0;34m\u001b[0m\u001b[0;34m\u001b[0m\u001b[0;34m\u001b[0m\u001b[0m\n\u001b[1;32m     11\u001b[0m     \u001b[0;31m#plt.fill_between(\u001b[0m\u001b[0;34m\u001b[0m\u001b[0;34m\u001b[0m\u001b[0;34m\u001b[0m\u001b[0m\n",
      "\u001b[0;31mNameError\u001b[0m: name 'TF_vocabulary' is not defined"
     ]
    },
    {
     "data": {
      "text/plain": [
       "<Figure size 1080x720 with 0 Axes>"
      ]
     },
     "metadata": {},
     "output_type": "display_data"
    }
   ],
   "source": [
    "n=20\n",
    "unique_labels = [0,1]\n",
    "for label in unique_labels:\n",
    "    freqs = np.array(corpus[corpus.Topic==label].sum(axis=0))[0]\n",
    "    plt.figure(figsize=(15,10))\n",
    "    inds = np.argsort(freqs)[::-1]\n",
    "    #plt.plot(freqs[inds[:n]])    \n",
    "    \n",
    "    plt.barh(np.array(TF_vocabulary)[inds[:n]],freqs[inds[:n]] )\n",
    "    #plt.xticks(range(n), np.array(TF_vocabulary)[inds[:n]], rotation=75)\n",
    "    #plt.fill_between(\n",
    "#\n",
    "    plt.xlabel('Palabras ' + '\"'+label+'\"', fontsize=10)\n",
    "    plt.title('Frecuencia de palabras para ' + '\"'+label+'\"', fontsize=16)\n",
    "    plt.show()"
   ]
  },
  {
   "cell_type": "code",
   "execution_count": null,
   "metadata": {},
   "outputs": [],
   "source": []
  }
 ],
 "metadata": {
  "kernelspec": {
   "display_name": "Python 3",
   "language": "python",
   "name": "python3"
  },
  "language_info": {
   "codemirror_mode": {
    "name": "ipython",
    "version": 3
   },
   "file_extension": ".py",
   "mimetype": "text/x-python",
   "name": "python",
   "nbconvert_exporter": "python",
   "pygments_lexer": "ipython3",
   "version": "3.7.4"
  }
 },
 "nbformat": 4,
 "nbformat_minor": 4
}
