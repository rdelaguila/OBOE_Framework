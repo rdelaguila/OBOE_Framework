{
 "cells": [
  {
   "cell_type": "code",
   "execution_count": 1,
   "metadata": {},
   "outputs": [
    {
     "data": {
      "text/html": [
       "<style type='text/css'>\n",
       ".datatable table.frame { margin-bottom: 0; }\n",
       ".datatable table.frame thead { border-bottom: none; }\n",
       ".datatable table.frame tr.coltypes td {  color: #FFFFFF;  line-height: 6px;  padding: 0 0.5em;}\n",
       ".datatable .boolean { background: #DDDD99; }\n",
       ".datatable .object  { background: #565656; }\n",
       ".datatable .integer { background: #5D9E5D; }\n",
       ".datatable .float   { background: #4040CC; }\n",
       ".datatable .string  { background: #CC4040; }\n",
       ".datatable .row_index {  background: var(--jp-border-color3);  border-right: 1px solid var(--jp-border-color0);  color: var(--jp-ui-font-color3);  font-size: 9px;}\n",
       ".datatable .frame tr.coltypes .row_index {  background: var(--jp-border-color0);}\n",
       ".datatable th:nth-child(2) { padding-left: 12px; }\n",
       ".datatable .hellipsis {  color: var(--jp-cell-editor-border-color);}\n",
       ".datatable .vellipsis {  background: var(--jp-layout-color0);  color: var(--jp-cell-editor-border-color);}\n",
       ".datatable .na {  color: var(--jp-cell-editor-border-color);  font-size: 80%;}\n",
       ".datatable .footer { font-size: 9px; }\n",
       ".datatable .frame_dimensions {  background: var(--jp-border-color3);  border-top: 1px solid var(--jp-border-color0);  color: var(--jp-ui-font-color3);  display: inline-block;  opacity: 0.6;  padding: 1px 10px 1px 5px;}\n",
       "</style>\n"
      ],
      "text/plain": [
       "<IPython.core.display.HTML object>"
      ]
     },
     "metadata": {},
     "output_type": "display_data"
    }
   ],
   "source": [
    "import numpy as np\n",
    "import pandas as pd\n",
    "import datatable\n",
    "import itertools as it\n",
    "from owlready2 import *\n",
    "import math\n",
    "import joblib\n",
    "\n",
    "import pickle\n",
    "\n",
    "#para depurar los que letras que no están en el codigo ascii\n",
    "import unicodedata\n",
    "import functools\n",
    "import spacy\n",
    "import stanfordnlp\n",
    "#from spacy_stanfordnlp import StanfordNLPLanguage\n",
    "from sklearn.decomposition import LatentDirichletAllocation\n",
    "from sklearn import metrics\n",
    "#from wiki_dump_reader import Cleaner, iterate\n",
    "from sklearn.decomposition import TruncatedSVD\n",
    "\n",
    "from sklearn.preprocessing import normalize\n",
    "from sklearn.feature_extraction.text import TfidfVectorizer\n",
    "from sklearn.metrics.pairwise import pairwise_distances\n",
    "\n",
    "from sklearn.linear_model import LogisticRegression\n",
    "from sklearn.preprocessing import StandardScaler\n",
    "from sklearn.feature_selection import chi2\n",
    "from sklearn.decomposition import TruncatedSVD\n",
    "from sklearn.preprocessing import normalize,scale\n",
    "\n",
    "#from gensim.models import CoherenceModel, LdaModel, LsiModel, HdpModel\n",
    "#from gensim.models.wrappers import LdaMallet\n",
    "#from gensim.corpora import Dictionary\n",
    "\n",
    "#import pyLDAvis\n",
    "#import pyLDAvis.gensim  # don't skip this\n",
    "import matplotlib.pyplot as plt\n",
    "%matplotlib inline\n",
    "\n",
    "from IPython.display import SVG\n",
    "\n",
    "import random\n",
    "from sklearn.externals import joblib\n",
    "\n",
    "\n",
    "#Operaciones con gráficos\n",
    "import scattertext as st\n",
    "from matplotlib import pyplot as plt\n",
    "from matplotlib.ticker import MaxNLocator\n",
    "\n",
    "import networkx as nx\n",
    "\n",
    "import bokeh.plotting as bp\n",
    "from bokeh.models import HoverTool, BoxSelectTool, LabelSet, ColumnDataSource, Range1d\n",
    "from bokeh.plotting import figure, show, output_notebook\n",
    "from sklearn.manifold import TSNE\n",
    "\n",
    "#import gensim\n",
    "#import gensim.corpora as corpora\n",
    "#from gensim.models import CoherenceModel\n",
    "#from gensim.models import HdpModel\n",
    "\n",
    "warnings.filterwarnings(\"ignore\")\n",
    "\n",
    "from sklearn.feature_extraction.text import TfidfVectorizer, CountVectorizer\n",
    "from sklearn.decomposition import LatentDirichletAllocation\n",
    "from multiprocessing import  Pool\n",
    "import math\n",
    "import scipy.sparse as sp\n",
    "\n",
    "import vectorizer\n",
    "importlib.reload(vectorizer)\n",
    "from vectorizer import  WeightedTfidfVectorizer\n",
    "from sklearn.svm import SVC\n",
    "from sklearn.model_selection import *\n",
    "from sklearn.metrics import classification_report, confusion_matrix\n",
    "\n"
   ]
  },
  {
   "cell_type": "markdown",
   "metadata": {},
   "source": [
    "# Reorganizamos el corpus"
   ]
  },
  {
   "cell_type": "code",
   "execution_count": 5,
   "metadata": {},
   "outputs": [],
   "source": [
    "import joblib\n",
    "corpus=joblib.load('../data/processed/amazon/corpus_reordered.final.pck')"
   ]
  },
  {
   "cell_type": "code",
   "execution_count": 6,
   "metadata": {},
   "outputs": [
    {
     "data": {
      "text/html": [
       "<div>\n",
       "<style scoped>\n",
       "    .dataframe tbody tr th:only-of-type {\n",
       "        vertical-align: middle;\n",
       "    }\n",
       "\n",
       "    .dataframe tbody tr th {\n",
       "        vertical-align: top;\n",
       "    }\n",
       "\n",
       "    .dataframe thead th {\n",
       "        text-align: right;\n",
       "    }\n",
       "</style>\n",
       "<table border=\"1\" class=\"dataframe\">\n",
       "  <thead>\n",
       "    <tr style=\"text-align: right;\">\n",
       "      <th></th>\n",
       "      <th>cleaned_text</th>\n",
       "      <th>Target</th>\n",
       "      <th>Topic</th>\n",
       "      <th>prob_topic</th>\n",
       "      <th>outlier_iqr</th>\n",
       "      <th>new_target</th>\n",
       "    </tr>\n",
       "  </thead>\n",
       "  <tbody>\n",
       "    <tr>\n",
       "      <th>0</th>\n",
       "      <td>book recommend friend finally read year late w...</td>\n",
       "      <td>1</td>\n",
       "      <td>1</td>\n",
       "      <td>0.996960</td>\n",
       "      <td>False</td>\n",
       "      <td>1</td>\n",
       "    </tr>\n",
       "    <tr>\n",
       "      <th>1</th>\n",
       "      <td>need question know child love impair identify ...</td>\n",
       "      <td>1</td>\n",
       "      <td>1</td>\n",
       "      <td>0.996156</td>\n",
       "      <td>False</td>\n",
       "      <td>1</td>\n",
       "    </tr>\n",
       "    <tr>\n",
       "      <th>2</th>\n",
       "      <td>keep interest way definitely read jacob s moth...</td>\n",
       "      <td>1</td>\n",
       "      <td>1</td>\n",
       "      <td>0.995366</td>\n",
       "      <td>False</td>\n",
       "      <td>1</td>\n",
       "    </tr>\n",
       "    <tr>\n",
       "      <th>3</th>\n",
       "      <td>c w gortner favorite author time wow queen rel...</td>\n",
       "      <td>1</td>\n",
       "      <td>1</td>\n",
       "      <td>0.998420</td>\n",
       "      <td>False</td>\n",
       "      <td>1</td>\n",
       "    </tr>\n",
       "    <tr>\n",
       "      <th>4</th>\n",
       "      <td>love book like jk alex delaware series problem...</td>\n",
       "      <td>1</td>\n",
       "      <td>1</td>\n",
       "      <td>0.995873</td>\n",
       "      <td>False</td>\n",
       "      <td>1</td>\n",
       "    </tr>\n",
       "    <tr>\n",
       "      <th>...</th>\n",
       "      <td>...</td>\n",
       "      <td>...</td>\n",
       "      <td>...</td>\n",
       "      <td>...</td>\n",
       "      <td>...</td>\n",
       "      <td>...</td>\n",
       "    </tr>\n",
       "    <tr>\n",
       "      <th>49995</th>\n",
       "      <td>great excepy send gray bowl black bowl ands wh...</td>\n",
       "      <td>0</td>\n",
       "      <td>0</td>\n",
       "      <td>0.006945</td>\n",
       "      <td>False</td>\n",
       "      <td>0</td>\n",
       "    </tr>\n",
       "    <tr>\n",
       "      <th>49996</th>\n",
       "      <td>find seller sell 12 filter pad 20 zanyzap orde...</td>\n",
       "      <td>0</td>\n",
       "      <td>0</td>\n",
       "      <td>0.004644</td>\n",
       "      <td>False</td>\n",
       "      <td>0</td>\n",
       "    </tr>\n",
       "    <tr>\n",
       "      <th>49997</th>\n",
       "      <td>buy small bowl toy poodle s hold easy wash sta...</td>\n",
       "      <td>0</td>\n",
       "      <td>0</td>\n",
       "      <td>0.004846</td>\n",
       "      <td>False</td>\n",
       "      <td>0</td>\n",
       "    </tr>\n",
       "    <tr>\n",
       "      <th>49998</th>\n",
       "      <td>little dog like flip cat bowl wet food reason ...</td>\n",
       "      <td>0</td>\n",
       "      <td>0</td>\n",
       "      <td>0.003512</td>\n",
       "      <td>False</td>\n",
       "      <td>0</td>\n",
       "    </tr>\n",
       "    <tr>\n",
       "      <th>49999</th>\n",
       "      <td>far sunflower seed vet recommend unable return...</td>\n",
       "      <td>0</td>\n",
       "      <td>0</td>\n",
       "      <td>0.006263</td>\n",
       "      <td>False</td>\n",
       "      <td>0</td>\n",
       "    </tr>\n",
       "  </tbody>\n",
       "</table>\n",
       "<p>50000 rows × 6 columns</p>\n",
       "</div>"
      ],
      "text/plain": [
       "                                            cleaned_text  Target  Topic  \\\n",
       "0      book recommend friend finally read year late w...       1      1   \n",
       "1      need question know child love impair identify ...       1      1   \n",
       "2      keep interest way definitely read jacob s moth...       1      1   \n",
       "3      c w gortner favorite author time wow queen rel...       1      1   \n",
       "4      love book like jk alex delaware series problem...       1      1   \n",
       "...                                                  ...     ...    ...   \n",
       "49995  great excepy send gray bowl black bowl ands wh...       0      0   \n",
       "49996  find seller sell 12 filter pad 20 zanyzap orde...       0      0   \n",
       "49997  buy small bowl toy poodle s hold easy wash sta...       0      0   \n",
       "49998  little dog like flip cat bowl wet food reason ...       0      0   \n",
       "49999  far sunflower seed vet recommend unable return...       0      0   \n",
       "\n",
       "       prob_topic  outlier_iqr  new_target  \n",
       "0        0.996960        False           1  \n",
       "1        0.996156        False           1  \n",
       "2        0.995366        False           1  \n",
       "3        0.998420        False           1  \n",
       "4        0.995873        False           1  \n",
       "...           ...          ...         ...  \n",
       "49995    0.006945        False           0  \n",
       "49996    0.004644        False           0  \n",
       "49997    0.004846        False           0  \n",
       "49998    0.003512        False           0  \n",
       "49999    0.006263        False           0  \n",
       "\n",
       "[50000 rows x 6 columns]"
      ]
     },
     "execution_count": 6,
     "metadata": {},
     "output_type": "execute_result"
    }
   ],
   "source": [
    "corpus"
   ]
  },
  {
   "cell_type": "code",
   "execution_count": 7,
   "metadata": {},
   "outputs": [
    {
     "data": {
      "text/html": [
       "<div>\n",
       "<style scoped>\n",
       "    .dataframe tbody tr th:only-of-type {\n",
       "        vertical-align: middle;\n",
       "    }\n",
       "\n",
       "    .dataframe tbody tr th {\n",
       "        vertical-align: top;\n",
       "    }\n",
       "\n",
       "    .dataframe thead th {\n",
       "        text-align: right;\n",
       "    }\n",
       "</style>\n",
       "<table border=\"1\" class=\"dataframe\">\n",
       "  <thead>\n",
       "    <tr style=\"text-align: right;\">\n",
       "      <th></th>\n",
       "      <th>cleaned_text</th>\n",
       "      <th>new_target</th>\n",
       "    </tr>\n",
       "  </thead>\n",
       "  <tbody>\n",
       "    <tr>\n",
       "      <th>0</th>\n",
       "      <td>book recommend friend finally read year late w...</td>\n",
       "      <td>1</td>\n",
       "    </tr>\n",
       "    <tr>\n",
       "      <th>1</th>\n",
       "      <td>need question know child love impair identify ...</td>\n",
       "      <td>1</td>\n",
       "    </tr>\n",
       "    <tr>\n",
       "      <th>2</th>\n",
       "      <td>keep interest way definitely read jacob s moth...</td>\n",
       "      <td>1</td>\n",
       "    </tr>\n",
       "    <tr>\n",
       "      <th>3</th>\n",
       "      <td>c w gortner favorite author time wow queen rel...</td>\n",
       "      <td>1</td>\n",
       "    </tr>\n",
       "    <tr>\n",
       "      <th>4</th>\n",
       "      <td>love book like jk alex delaware series problem...</td>\n",
       "      <td>1</td>\n",
       "    </tr>\n",
       "  </tbody>\n",
       "</table>\n",
       "</div>"
      ],
      "text/plain": [
       "                                        cleaned_text  new_target\n",
       "0  book recommend friend finally read year late w...           1\n",
       "1  need question know child love impair identify ...           1\n",
       "2  keep interest way definitely read jacob s moth...           1\n",
       "3  c w gortner favorite author time wow queen rel...           1\n",
       "4  love book like jk alex delaware series problem...           1"
      ]
     },
     "execution_count": 7,
     "metadata": {},
     "output_type": "execute_result"
    }
   ],
   "source": [
    "corpusnormalizado = corpus.iloc[:,[0,5]]\n",
    "corpusnormalizado.head()"
   ]
  },
  {
   "cell_type": "code",
   "execution_count": 8,
   "metadata": {},
   "outputs": [
    {
     "data": {
      "text/html": [
       "<div>\n",
       "<style scoped>\n",
       "    .dataframe tbody tr th:only-of-type {\n",
       "        vertical-align: middle;\n",
       "    }\n",
       "\n",
       "    .dataframe tbody tr th {\n",
       "        vertical-align: top;\n",
       "    }\n",
       "\n",
       "    .dataframe thead th {\n",
       "        text-align: right;\n",
       "    }\n",
       "</style>\n",
       "<table border=\"1\" class=\"dataframe\">\n",
       "  <thead>\n",
       "    <tr style=\"text-align: right;\">\n",
       "      <th></th>\n",
       "      <th>cleaned_text</th>\n",
       "      <th>Topic</th>\n",
       "    </tr>\n",
       "  </thead>\n",
       "  <tbody>\n",
       "    <tr>\n",
       "      <th>0</th>\n",
       "      <td>book recommend friend finally read year late w...</td>\n",
       "      <td>1</td>\n",
       "    </tr>\n",
       "    <tr>\n",
       "      <th>1</th>\n",
       "      <td>need question know child love impair identify ...</td>\n",
       "      <td>1</td>\n",
       "    </tr>\n",
       "    <tr>\n",
       "      <th>2</th>\n",
       "      <td>keep interest way definitely read jacob s moth...</td>\n",
       "      <td>1</td>\n",
       "    </tr>\n",
       "    <tr>\n",
       "      <th>3</th>\n",
       "      <td>c w gortner favorite author time wow queen rel...</td>\n",
       "      <td>1</td>\n",
       "    </tr>\n",
       "    <tr>\n",
       "      <th>4</th>\n",
       "      <td>love book like jk alex delaware series problem...</td>\n",
       "      <td>1</td>\n",
       "    </tr>\n",
       "  </tbody>\n",
       "</table>\n",
       "</div>"
      ],
      "text/plain": [
       "                                        cleaned_text  Topic\n",
       "0  book recommend friend finally read year late w...      1\n",
       "1  need question know child love impair identify ...      1\n",
       "2  keep interest way definitely read jacob s moth...      1\n",
       "3  c w gortner favorite author time wow queen rel...      1\n",
       "4  love book like jk alex delaware series problem...      1"
      ]
     },
     "execution_count": 8,
     "metadata": {},
     "output_type": "execute_result"
    }
   ],
   "source": [
    "corpussinoutliers = corpus.iloc[:,[0,2]]\n",
    "corpussinoutliers.head()"
   ]
  },
  {
   "cell_type": "code",
   "execution_count": 9,
   "metadata": {},
   "outputs": [],
   "source": [
    "topics0 = joblib.load('../objects/amazon/topics0')\n",
    "topics1 = joblib.load('../objects/amazon/topics1')\n",
    "feature_names = joblib.load('../objects/amazon/feature_names.final')"
   ]
  },
  {
   "cell_type": "code",
   "execution_count": 10,
   "metadata": {},
   "outputs": [],
   "source": [
    "longitud = 100\n",
    "vocab=topics1[-100:]\n",
    "vocab2 = topics0[-200:]\n",
    "contador = 0\n",
    "for word in vocab2:\n",
    "    if word not in vocab:\n",
    "        contador = contador+1\n",
    "        vocab.append(word)\n",
    "        if contador == longitud:\n",
    "            break"
   ]
  },
  {
   "cell_type": "code",
   "execution_count": 11,
   "metadata": {},
   "outputs": [
    {
     "data": {
      "text/plain": [
       "['word',\n",
       " 'romance',\n",
       " 'definitely',\n",
       " 'young',\n",
       " 'star',\n",
       " 'follow',\n",
       " 'bite',\n",
       " 'begin',\n",
       " 'line',\n",
       " 'amaze',\n",
       " 'review',\n",
       " 'leave',\n",
       " 'day',\n",
       " 'different',\n",
       " 'disappoint',\n",
       " 'hard',\n",
       " 'buy',\n",
       " 'couldn',\n",
       " 'history',\n",
       " 'highly',\n",
       " 'recipe',\n",
       " 'real',\n",
       " 'mystery',\n",
       " 'friend',\n",
       " 'long',\n",
       " 'favorite',\n",
       " 'hope',\n",
       " 'understand',\n",
       " 'turn',\n",
       " 'action',\n",
       " 'man',\n",
       " 'try',\n",
       " 'information',\n",
       " 'forward',\n",
       " 'tell',\n",
       " 'twist',\n",
       " 'make',\n",
       " 'finish',\n",
       " 'need',\n",
       " 'take',\n",
       " 'family',\n",
       " 'work',\n",
       " 'old',\n",
       " 'easy',\n",
       " 'excellent',\n",
       " 'help',\n",
       " 'wonderful',\n",
       " 'learn',\n",
       " 'live',\n",
       " 'child',\n",
       " 'happen',\n",
       " 'reader',\n",
       " 'world',\n",
       " 'give',\n",
       " 'don',\n",
       " 'didn',\n",
       " 'plot',\n",
       " 'thing',\n",
       " 'year',\n",
       " 'new',\n",
       " 'people',\n",
       " 'little',\n",
       " 'movie',\n",
       " 'be',\n",
       " 'keep',\n",
       " 'fun',\n",
       " 'page',\n",
       " 'come',\n",
       " 'novel',\n",
       " 'start',\n",
       " 'get',\n",
       " 'go',\n",
       " 'lot',\n",
       " 'feel',\n",
       " 'have',\n",
       " 'look',\n",
       " 'wait',\n",
       " 'life',\n",
       " 'way',\n",
       " 'recommend',\n",
       " 'well',\n",
       " 'want',\n",
       " 'know',\n",
       " 'find',\n",
       " 'think',\n",
       " 'time',\n",
       " 'end',\n",
       " 'interest',\n",
       " 'author',\n",
       " 'enjoy',\n",
       " 'write',\n",
       " 'like',\n",
       " 'character',\n",
       " 'good',\n",
       " 'great',\n",
       " 'series',\n",
       " 'love',\n",
       " 'story',\n",
       " 'read',\n",
       " 'book',\n",
       " 'update',\n",
       " 'solid',\n",
       " 'deal',\n",
       " 'delivery',\n",
       " 'seller',\n",
       " 'machine',\n",
       " 'charger',\n",
       " 'open',\n",
       " 'hour',\n",
       " 'pad',\n",
       " 'cost',\n",
       " 'paper',\n",
       " 'stay',\n",
       " 'quickly',\n",
       " 'cool',\n",
       " 'bad',\n",
       " 'button',\n",
       " 'feature',\n",
       " 'project',\n",
       " 'hook',\n",
       " 'monitor',\n",
       " 'win',\n",
       " 'player',\n",
       " 'stuff',\n",
       " 'stick',\n",
       " 'extra',\n",
       " 'carry',\n",
       " 'photo',\n",
       " 'home',\n",
       " 'clear',\n",
       " 'add',\n",
       " 'will',\n",
       " 'adapter',\n",
       " 'hand',\n",
       " 'piece',\n",
       " 'pay',\n",
       " 'heavy',\n",
       " 'super',\n",
       " 'wish',\n",
       " 'cut',\n",
       " 'wire',\n",
       " 'place',\n",
       " 'package',\n",
       " 'service',\n",
       " '10',\n",
       " 'plastic',\n",
       " 'cover',\n",
       " 'toy',\n",
       " 'say',\n",
       " 'wear',\n",
       " 'week',\n",
       " 'store',\n",
       " 'ear',\n",
       " 'system',\n",
       " 'build',\n",
       " 'link',\n",
       " 'able',\n",
       " 'room',\n",
       " 'value',\n",
       " 'replace',\n",
       " 'sturdy',\n",
       " 'receive',\n",
       " 'food',\n",
       " 'cord',\n",
       " 'connect',\n",
       " 'headphone',\n",
       " 'break',\n",
       " 'low',\n",
       " 'comfortable',\n",
       " 'design',\n",
       " 'easily',\n",
       " 'play',\n",
       " 'job',\n",
       " 'okay',\n",
       " 'worth',\n",
       " 'brand',\n",
       " 'water',\n",
       " 'return',\n",
       " 'arrive',\n",
       " 'awesome',\n",
       " 'advertise',\n",
       " 'sure',\n",
       " 'mount',\n",
       " 'laptop',\n",
       " 'clean',\n",
       " 'screen',\n",
       " 'video',\n",
       " 'high',\n",
       " 'power',\n",
       " 'run',\n",
       " 'unit',\n",
       " 'month',\n",
       " 'phone',\n",
       " 'computer',\n",
       " 'charge',\n",
       " 'ship',\n",
       " 'device',\n",
       " 'usb',\n",
       " 'right',\n",
       " 'doesn']"
      ]
     },
     "execution_count": 11,
     "metadata": {},
     "output_type": "execute_result"
    }
   ],
   "source": [
    "vocab"
   ]
  },
  {
   "cell_type": "code",
   "execution_count": 12,
   "metadata": {},
   "outputs": [],
   "source": [
    "wtfidf = WeightedTfidfVectorizer(vocabulary = vocab) #aquí ya hemos hecho una selección inicial de variables"
   ]
  },
  {
   "cell_type": "code",
   "execution_count": 13,
   "metadata": {},
   "outputs": [],
   "source": [
    "newdtm = wtfidf.fit_transform(corpusnormalizado)"
   ]
  },
  {
   "cell_type": "code",
   "execution_count": 14,
   "metadata": {},
   "outputs": [
    {
     "data": {
      "text/plain": [
       "<50000x200 sparse matrix of type '<class 'numpy.float32'>'\n",
       "\twith 456854 stored elements in Compressed Sparse Row format>"
      ]
     },
     "execution_count": 14,
     "metadata": {},
     "output_type": "execute_result"
    }
   ],
   "source": [
    "newdtm"
   ]
  },
  {
   "cell_type": "code",
   "execution_count": 16,
   "metadata": {},
   "outputs": [],
   "source": [
    "newdtmso = wtfidf.fit_transform(corpussinoutliers)"
   ]
  },
  {
   "cell_type": "code",
   "execution_count": 17,
   "metadata": {},
   "outputs": [
    {
     "data": {
      "text/plain": [
       "<50000x200 sparse matrix of type '<class 'numpy.float32'>'\n",
       "\twith 456854 stored elements in Compressed Sparse Row format>"
      ]
     },
     "execution_count": 17,
     "metadata": {},
     "output_type": "execute_result"
    }
   ],
   "source": [
    "newdtmso"
   ]
  },
  {
   "cell_type": "code",
   "execution_count": 18,
   "metadata": {},
   "outputs": [
    {
     "data": {
      "text/plain": [
       "['../objects/amazon/newdtm.final']"
      ]
     },
     "execution_count": 18,
     "metadata": {},
     "output_type": "execute_result"
    }
   ],
   "source": [
    "joblib.dump(vocab,'../objects/amazon/vocab.dtm.final')\n",
    "joblib.dump(newdtm,'../objects/amazon/newdtm.final')"
   ]
  },
  {
   "cell_type": "code",
   "execution_count": 19,
   "metadata": {},
   "outputs": [
    {
     "data": {
      "text/plain": [
       "['../objects/amazon/newdtmsinoutliers.final']"
      ]
     },
     "execution_count": 19,
     "metadata": {},
     "output_type": "execute_result"
    }
   ],
   "source": [
    "joblib.dump(newdtmso,'../objects/amazon/newdtmsinoutliers.final')"
   ]
  },
  {
   "cell_type": "code",
   "execution_count": 20,
   "metadata": {},
   "outputs": [
    {
     "data": {
      "text/plain": [
       "['../data/processed/amazon/corpus_normalizado.final']"
      ]
     },
     "execution_count": 20,
     "metadata": {},
     "output_type": "execute_result"
    }
   ],
   "source": [
    "joblib.dump(corpusnormalizado,'../data/processed/amazon/corpus_normalizado.final')"
   ]
  },
  {
   "cell_type": "code",
   "execution_count": 21,
   "metadata": {},
   "outputs": [
    {
     "data": {
      "text/plain": [
       "['../data/processed/amazon/corpus_normalizado_sin_outliers.final']"
      ]
     },
     "execution_count": 21,
     "metadata": {},
     "output_type": "execute_result"
    }
   ],
   "source": [
    "joblib.dump(corpussinoutliers,'../data/processed/amazon/corpus_normalizado_sin_outliers.final')"
   ]
  },
  {
   "cell_type": "code",
   "execution_count": null,
   "metadata": {},
   "outputs": [],
   "source": []
  }
 ],
 "metadata": {
  "kernelspec": {
   "display_name": "Python 3",
   "language": "python",
   "name": "python3"
  },
  "language_info": {
   "codemirror_mode": {
    "name": "ipython",
    "version": 3
   },
   "file_extension": ".py",
   "mimetype": "text/x-python",
   "name": "python",
   "nbconvert_exporter": "python",
   "pygments_lexer": "ipython3",
   "version": "3.7.4"
  }
 },
 "nbformat": 4,
 "nbformat_minor": 4
}
