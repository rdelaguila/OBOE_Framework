{
 "cells": [
  {
   "cell_type": "code",
   "execution_count": 82,
   "metadata": {},
   "outputs": [],
   "source": [
    "from lark import Lark, Transformer\n",
    "import joblib \n",
    "import rulesets\n",
    "import nlp_explain_spa\n",
    "import importlib.util\n",
    "importlib.reload(rulesets)\n",
    "importlib.reload(nlp_explain_spa)\n",
    "\n",
    "\n",
    "from rulesets import *\n",
    "from nlp_explain_spa import *"
   ]
  },
  {
   "cell_type": "code",
   "execution_count": 57,
   "metadata": {},
   "outputs": [],
   "source": [
    "from googletrans import Translator"
   ]
  },
  {
   "cell_type": "code",
   "execution_count": 58,
   "metadata": {},
   "outputs": [],
   "source": [
    "translator = Translator()"
   ]
  },
  {
   "cell_type": "code",
   "execution_count": 59,
   "metadata": {},
   "outputs": [],
   "source": [
    "with open('../config/grammar.txt') as grammar_file:\n",
    "    grammar = grammar_file.read()\n",
    "parser = Lark(grammar)\n",
    "import itertools"
   ]
  },
  {
   "cell_type": "code",
   "execution_count": 9,
   "metadata": {},
   "outputs": [
    {
     "name": "stdout",
     "output_type": "stream",
     "text": [
      "debería entrar aqui si tengo antecedentes, por cada disyuncion\n",
      "OPERATOR GREATER OR LOWER THAN\n",
      "operator 1>=\n",
      "book==6 and ((read>=5 and read<=7) or \n"
     ]
    }
   ],
   "source": [
    "rule1 = joblib.load('../objects/amazon/rules_3_experiment/rule_3_bis_1')\n",
    "decorador1 = RuleStringDecorator(rule1)\n",
    "texto1 = decorador1.getString(False,'Book Review')\n",
    "expresion1 = decorador1.getString()"
   ]
  },
  {
   "cell_type": "code",
   "execution_count": 10,
   "metadata": {},
   "outputs": [],
   "source": [
    "rule2 = joblib.load('../objects/amazon/rules_3_experiment/rule_3_bis_2')\n",
    "decorador2 = RuleStringDecorator(rule2)\n",
    "texto2 = decorador2.getString(False,'Book Review')"
   ]
  },
  {
   "cell_type": "code",
   "execution_count": 11,
   "metadata": {},
   "outputs": [
    {
     "name": "stdout",
     "output_type": "stream",
     "text": [
      "debería entrar aqui si tengo antecedentes, por cada disyuncion\n",
      "OPERATOR GREATER OR LOWER THAN\n",
      "operator 1>=\n",
      "book==6 and ((story>=5 and story<=6) or \n"
     ]
    }
   ],
   "source": [
    "expresion2 = decorador2.getString()\n",
    "rule3 = joblib.load('../objects/amazon/rules_3_experiment/rule_3_bis_3')\n",
    "decorador3 = RuleStringDecorator(rule3)\n",
    "texto3 = decorador3.getString(False,'Book Review')\n",
    "expresion3 = decorador3.getString()"
   ]
  },
  {
   "cell_type": "code",
   "execution_count": 12,
   "metadata": {},
   "outputs": [],
   "source": [
    "rule4 = joblib.load('../objects/amazon/rules_3_experiment/rule_3_bis_4')\n",
    "decorador4 = RuleStringDecorator(rule4)\n",
    "texto4 = decorador4.getString(False,'Book Review')\n",
    "expresion4 = decorador4.getString()"
   ]
  },
  {
   "cell_type": "code",
   "execution_count": 13,
   "metadata": {},
   "outputs": [],
   "source": [
    "rule5 = joblib.load('../objects/amazon/rules_3_experiment/rule_3_bis_5')\n",
    "decorador5 = RuleStringDecorator(rule5)\n",
    "texto5 = decorador5.getString(False,'Book Review')\n",
    "expresion5 = decorador5.getString()"
   ]
  },
  {
   "cell_type": "code",
   "execution_count": 14,
   "metadata": {},
   "outputs": [],
   "source": [
    "rule6 = joblib.load('../objects/amazon/rules_3_experiment/rule_3_bis_6')\n",
    "decorador6 = RuleStringDecorator(rule6)\n",
    "texto6 = decorador6.getString(False,'Book Review')\n",
    "expresion6 = decorador6.getString()"
   ]
  },
  {
   "cell_type": "code",
   "execution_count": 15,
   "metadata": {},
   "outputs": [
    {
     "name": "stdout",
     "output_type": "stream",
     "text": [
      "debería entrar aqui si tengo antecedentes, por cada disyuncion\n",
      "OPERATOR GREATER OR LOWER THAN\n",
      "operator 1>=\n",
      "story==5 and ((character>=7 and character<=8) or \n"
     ]
    }
   ],
   "source": [
    "rule7 = joblib.load('../objects/amazon/rules_3_experiment/rule_3_bis_7')\n",
    "decorador7 = RuleStringDecorator(rule7)\n",
    "texto7 = decorador7.getString(False,'Book Review')\n",
    "expresion7 = decorador7.getString()"
   ]
  },
  {
   "cell_type": "code",
   "execution_count": 16,
   "metadata": {},
   "outputs": [
    {
     "name": "stdout",
     "output_type": "stream",
     "text": [
      "debería entrar aqui si no tengo antecedentes\n",
      "OPERATOR GREATER OR LOWER THAN\n",
      "operator 1>=\n",
      "debería entrar aqui si no tengo antecedentes\n",
      "OPERATOR IGUAL\n",
      "((character>=6 and character<=8) or character==10 or \n"
     ]
    }
   ],
   "source": [
    "rule8 = joblib.load('../objects/amazon/rules_3_experiment/rule_3_bis_8')\n",
    "decorador8 = RuleStringDecorator(rule8)\n",
    "texto8 = decorador8.getString(False,'Book Review')\n",
    "expresion8 = decorador8.getString()"
   ]
  },
  {
   "cell_type": "code",
   "execution_count": null,
   "metadata": {},
   "outputs": [],
   "source": []
  },
  {
   "cell_type": "code",
   "execution_count": 17,
   "metadata": {},
   "outputs": [
    {
     "data": {
      "text/plain": [
       "'if book==6 and ((read>=5 and read<=7)) then confidence = 0.00343931799056017'"
      ]
     },
     "execution_count": 17,
     "metadata": {},
     "output_type": "execute_result"
    }
   ],
   "source": [
    "expresion1"
   ]
  },
  {
   "cell_type": "code",
   "execution_count": 18,
   "metadata": {},
   "outputs": [],
   "source": [
    "import spacy\n",
    "import time \n",
    "from spacy_langdetect import LanguageDetector\n",
    "nlp = spacy.load(\"en_core_web_md\")"
   ]
  },
  {
   "cell_type": "code",
   "execution_count": 19,
   "metadata": {},
   "outputs": [],
   "source": [
    "myworld1 = World()\n",
    "ontsumo = sumo =myworld1.get_ontology(\"../data/ontologias/SUMO.owl\")"
   ]
  },
  {
   "cell_type": "code",
   "execution_count": 20,
   "metadata": {},
   "outputs": [],
   "source": [
    "ontsumo.base_iri=\"http://www.adampease.org/OP/SUMO.owl#\"\n",
    "ontsumo.name='SUMO'\n",
    "sumo =ontsumo.load() #http://www.adampease.org/OP/SUMO.owl\n",
    "graphsumo = myworld1.as_rdflib_graph()"
   ]
  },
  {
   "cell_type": "code",
   "execution_count": 21,
   "metadata": {},
   "outputs": [],
   "source": [
    "myworld2 = World()\n",
    "ontdbpedia = dbpedia=myworld2.get_ontology(\"../data/ontologies/dbpedia_2016-10.owl\")"
   ]
  },
  {
   "cell_type": "code",
   "execution_count": 22,
   "metadata": {},
   "outputs": [
    {
     "name": "stderr",
     "output_type": "stream",
     "text": [
      "* Owlready2 * WARNING: ObjectProperty http://dbpedia.org/ontology/senator belongs to more than one entity types: [owl.ObjectProperty, dbpedia_2016-10.MemberOfParliament, DUL.sameSettingAs]; I'm trying to fix it...\n",
      "* Owlready2 * WARNING: ObjectProperty http://dbpedia.org/ontology/politicGovernmentDepartment belongs to more than one entity types: [owl.ObjectProperty, dbpedia_2016-10.Department, DUL.hasPart]; I'm trying to fix it...\n",
      "* Owlready2 * WARNING: DataProperty http://dbpedia.org/ontology/productShape belongs to more than one entity types: [owl.DatatypeProperty, DUL.hasQuality]; I'm trying to fix it...\n",
      "* Owlready2 * WARNING: DataProperty http://dbpedia.org/ontology/latinName belongs to more than one entity types: [owl.DatatypeProperty, dbpedia_2016-10.Name]; I'm trying to fix it...\n",
      "* Owlready2 * WARNING: DataProperty http://dbpedia.org/ontology/iso6391Code belongs to more than one entity types: [owl.DatatypeProperty, dbpedia_2016-10.LanguageCode]; I'm trying to fix it...\n",
      "* Owlready2 * WARNING: DataProperty http://dbpedia.org/ontology/iso6393Code belongs to more than one entity types: [owl.DatatypeProperty, dbpedia_2016-10.LanguageCode]; I'm trying to fix it...\n",
      "* Owlready2 * WARNING: DataProperty http://dbpedia.org/ontology/iso6392Code belongs to more than one entity types: [owl.DatatypeProperty, dbpedia_2016-10.LanguageCode]; I'm trying to fix it...\n",
      "* Owlready2 * WARNING: DataProperty http://dbpedia.org/ontology/ingredientName belongs to more than one entity types: [owl.DatatypeProperty, DUL.hasPart]; I'm trying to fix it...\n",
      "* Owlready2 * WARNING: DataProperty http://dbpedia.org/ontology/greekName belongs to more than one entity types: [owl.DatatypeProperty, dbpedia_2016-10.Name]; I'm trying to fix it...\n"
     ]
    }
   ],
   "source": [
    "dbpedia = ontdbpedia.load()\n",
    "\n",
    "ontdbpedia.base_iri = \"http://dbpedia.org/ontology/\"\n",
    "ontdbpedia.name='dbo'\n",
    "graphdbo = myworld2.as_rdflib_graph()"
   ]
  },
  {
   "cell_type": "code",
   "execution_count": 23,
   "metadata": {},
   "outputs": [],
   "source": [
    "myworld3 = World()\n",
    "ontwordnet = myworld3.get_ontology(\"../data/ontologies/WordNet.owl\")\n",
    "\n",
    "\n",
    "wordnet = ontwordnet.load()\n",
    "ontwordnet.base_iri = \"http://www.adampease.org/OP/WordNet.owl#\"\n",
    "ontwordnet.name='wn'\n",
    "graphwordnet = myworld3.as_rdflib_graph()\n",
    "\n",
    "\n",
    "    "
   ]
  },
  {
   "cell_type": "code",
   "execution_count": 24,
   "metadata": {},
   "outputs": [
    {
     "name": "stderr",
     "output_type": "stream",
     "text": [
      "* Owlready2 * Running HermiT...\n",
      "    java -Xmx2000M -cp /home/rdelaguila/anaconda3/lib/python3.7/site-packages/owlready2/hermit:/home/rdelaguila/anaconda3/lib/python3.7/site-packages/owlready2/hermit/HermiT.jar org.semanticweb.HermiT.cli.CommandLine -c -O -D -I file:////tmp/tmp7q7wx_46\n",
      "* Owlready2 * HermiT took 2.827779769897461 seconds\n",
      "* Owlready * (NB: only changes on entities loaded in Python are shown, other changes are done but not listed)\n"
     ]
    }
   ],
   "source": [
    "    \n",
    "\n",
    "dict_onto = dict([('dbo',dbpedia),('SUMO',sumo),('wn',wordnet)])\n",
    "dict_graph = dict([('dbo',graphdbo),('SUMO',graphsumo),('wn',graphwordnet)])\n",
    "sync_reasoner()"
   ]
  },
  {
   "cell_type": "code",
   "execution_count": 25,
   "metadata": {},
   "outputs": [],
   "source": [
    "alfred = OntologyOracle(nlp,dict_onto,dict_graph)"
   ]
  },
  {
   "cell_type": "code",
   "execution_count": 83,
   "metadata": {},
   "outputs": [],
   "source": [
    "platon = SemanticRuleExplainer(lang='en')\n"
   ]
  },
  {
   "cell_type": "code",
   "execution_count": 84,
   "metadata": {},
   "outputs": [],
   "source": [
    "transformer = MyTransformer(\"'Book Review'\",'en')\n"
   ]
  },
  {
   "cell_type": "code",
   "execution_count": 85,
   "metadata": {},
   "outputs": [
    {
     "name": "stdout",
     "output_type": "stream",
     "text": [
      "\n",
      "1 analizado: book==6\n",
      "\n",
      "Adding book  is of medium importance\n",
      "\n",
      "2 analizado: read>=5\n",
      "\n",
      "range from!!!!\n",
      "si estoy metiendo self relevancia1is of medium importance\n",
      "Adding read is at levels between is of medium importance\n",
      "\n",
      "3 analizado: read<=7\n",
      "\n",
      "range To!!!!!!!\n",
      "Adding not simplified: r1is of medium importance- r2:is important::and is important\n",
      "\n",
      "EXPRESION AND 4: and is important in that text _ Y _ (2) read is at levels between is of medium importance\n",
      "\n",
      "EXPRESION AND 5: (2) read is at levels between is of medium importance and is important in that text _ Y _ (1) book  is of medium importance in that text\n",
      "In the context of finding and justifying the theme of a text, we have been able to deduce that whenever (1) book  is of medium importance in that text and (2) read is at levels between is of medium importance and is important in that text then the text analyzed could be related to the topic: 'Book Review'\n",
      "ANTECEDENTE book\n",
      "ANTECEDENTE read\n"
     ]
    }
   ],
   "source": [
    "tree = parser.parse(expresion1)\n",
    "with open ('../reports/rule1_bis_eng.txt','a') as file1:\n",
    "    file1.write(\"Explanation generated from one of the cases found where a text can be talking about the subject 'Book Review’  \\r\")\n",
    "    transformer.transform(tree)\n",
    "    file1.write ('\\r\\t'+transformer.devuelveMensaje()+'\\r\\r')\n",
    "    cont = 1\n",
    "    #file1.write('\\rAlgunas definiciones de los términos arriba expuestos:\\r')\n",
    "    for antecedente in list(set(rule1.getAntecedentes(True))):\n",
    "        print('ANTECEDENTE '+antecedente)\n",
    "        relato = platon.construirRelatoSimplificadoTermino(antecedente)\n",
    "        file1.write(relato)\n",
    "        cont = cont + 1\n",
    "        file1.write('\\r__________________________________________________________________________________________\\r')\n",
    "\n",
    "    file1.write('\\r========================================================================================\\r')\n",
    "    file1.close()"
   ]
  },
  {
   "cell_type": "code",
   "execution_count": 86,
   "metadata": {},
   "outputs": [
    {
     "name": "stdout",
     "output_type": "stream",
     "text": [
      "\n",
      "6 analizado: book==6\n",
      "\n",
      "Adding book  is of medium importance\n",
      "\n",
      "7 analizado: read==6\n",
      "\n",
      "Adding read  is of medium importance\n",
      "\n",
      "8 analizado: author==5\n",
      "\n",
      "Adding author  is of medium importance\n",
      "\n",
      "EXPRESION AND 9: (3) author  is of medium importance in that text _ Y _ (2) read  is of medium importance in that text\n",
      "\n",
      "EXPRESION AND 10: (2) read  is of medium importance in that text and (3) author  is of medium importance in that text _ Y _ (1) book  is of medium importance in that text\n",
      "In the context of finding and justifying the theme of a text, we have been able to deduce that whenever (1) book  is of medium importance in that text and (2) read  is of medium importance in that text and (3) author  is of medium importance in that text then the text analyzed could be related to the topic: 'Book Review'\n",
      "ANTECEDENTE author\n",
      "ANTECEDENTE book\n",
      "ANTECEDENTE read\n"
     ]
    }
   ],
   "source": [
    "expresion2 = expresion2.replace('3.65884892612784e-05','0.0000365884892612')\n",
    "tree = parser.parse(expresion2)\n",
    "with open ('../reports/rule2_bis_eng.txt','a') as file1:\n",
    "    file1.write(\"Explanation generated from one of the cases found where a text can be talking about the subject 'Book Review’  \\r\")\n",
    "    transformer.transform(tree)\n",
    "    file1.write ('\\r\\t'+transformer.devuelveMensaje()+'\\r\\r')\n",
    "    cont = 1\n",
    "    for antecedente in list(set(rule2.getAntecedentes(True))):\n",
    "        print('ANTECEDENTE '+antecedente)\n",
    "        relato = platon.construirRelatoSimplificadoTermino(antecedente)\n",
    "        file1.write(relato)\n",
    "        cont = cont + 1\n",
    "        file1.write('\\r__________________________________________________________________________________________\\r')\n",
    "\n",
    "    file1.write('\\r========================================================================================\\r')\n",
    "    file1.close()"
   ]
  },
  {
   "cell_type": "code",
   "execution_count": 87,
   "metadata": {},
   "outputs": [
    {
     "name": "stdout",
     "output_type": "stream",
     "text": [
      "\n",
      "11 analizado: book==6\n",
      "\n",
      "Adding book  is of medium importance\n",
      "\n",
      "12 analizado: story>=5\n",
      "\n",
      "range from!!!!\n",
      "si estoy metiendo self relevancia1is of medium importance\n",
      "Adding story is at levels between is of medium importance\n",
      "\n",
      "EXPRESION AND 13: (2) story is at levels between is of medium importance _ Y _ (1) book  is of medium importance in that text\n",
      "\n",
      "14 analizado: story<=6\n",
      "\n",
      "range To!!!!!!!\n",
      "Adding not simplified: r1- r2:is of medium importance::and is of medium importance\n",
      "\n",
      "EXPRESION AND 15: and is of medium importance in that text _ Y _ (1) book  is of medium importance in that text and (2) story is at levels between is of medium importance\n",
      "In the context of finding and justifying the theme of a text, we have been able to deduce that whenever (1) book  is of medium importance in that text and (2) story is at levels between is of medium importance and is of medium importance in that text then the text analyzed could be related to the topic: 'Book Review'\n",
      "ANTECEDENTE book\n",
      "ANTECEDENTE story\n"
     ]
    }
   ],
   "source": [
    "tree = parser.parse(expresion3)\n",
    "with open ('../reports/rule3_bis_eng.txt','w') as file1:\n",
    "    file1.write(\"Explanation generated from one of the cases found where a text can be talking about the subject 'Book Review’  \\r\")\n",
    "    transformer.transform(tree)\n",
    "    file1.write ('\\r\\t'+transformer.devuelveMensaje()+'\\r\\r')\n",
    "    cont = 1\n",
    "    for antecedente in list(set(rule3.getAntecedentes(True))):\n",
    "        print('ANTECEDENTE '+antecedente)\n",
    "        relato = platon.construirRelatoSimplificadoTermino(antecedente)\n",
    "        file1.write(relato)\n",
    "        cont = cont + 1\n",
    "        file1.write('\\r__________________________________________________________________________________________\\r')\n",
    "\n",
    "    file1.write('\\r========================================================================================\\r')\n",
    "    file1.close()"
   ]
  },
  {
   "cell_type": "code",
   "execution_count": 88,
   "metadata": {},
   "outputs": [
    {
     "name": "stdout",
     "output_type": "stream",
     "text": [
      "\n",
      "16 analizado: read==9\n",
      "\n",
      "Adding read   is very important\n",
      "In the context of finding and justifying the theme of a text, we have been able to deduce that whenever (1) read   is very important in that text then the text analyzed could be related to the topic: 'Book Review'\n",
      "ANTECEDENTE read\n"
     ]
    }
   ],
   "source": [
    "tree = parser.parse(expresion4)\n",
    "with open ('../reports/rule4_bis_eng.txt','a') as file1:\n",
    "    file1.write(\"Explanation generated from one of the cases found where a text can be talking about the subject 'Book Review’  \\r\")\n",
    "    transformer.transform(tree)\n",
    "    file1.write ('\\r\\t'+transformer.devuelveMensaje()+'\\r\\r')\n",
    "    cont = 1\n",
    "    for antecedente in list(set(rule4.getAntecedentes(True))):\n",
    "        print('ANTECEDENTE '+antecedente)\n",
    "        relato = platon.construirRelatoSimplificadoTermino(antecedente)\n",
    "        file1.write(relato)\n",
    "        cont = cont + 1\n",
    "        file1.write('\\r__________________________________________________________________________________________\\r')\n",
    "\n",
    "    file1.write('\\r========================================================================================\\r')\n",
    "    file1.close()"
   ]
  },
  {
   "cell_type": "code",
   "execution_count": 89,
   "metadata": {},
   "outputs": [
    {
     "name": "stdout",
     "output_type": "stream",
     "text": [
      "\n",
      "17 analizado: read==5\n",
      "\n",
      "Adding read  is of medium importance\n",
      "\n",
      "18 analizado: story==5\n",
      "\n",
      "Adding story  is of medium importance\n",
      "\n",
      "EXPRESION AND 19: (2) story  is of medium importance in that text _ Y _ (1) read  is of medium importance in that text\n",
      "In the context of finding and justifying the theme of a text, we have been able to deduce that whenever (1) read  is of medium importance in that text and (2) story  is of medium importance in that text then the text analyzed could be related to the topic: 'Book Review'\n",
      "ANTECEDENTE story\n",
      "ANTECEDENTE read\n"
     ]
    }
   ],
   "source": [
    "tree = parser.parse(expresion5)\n",
    "with open ('../reports/rule5_bis_eng.txt','a') as file1:\n",
    "    file1.write(\"Explanation generated from one of the cases found where a text can be talking about the subject 'Book Review’  \\r\")\n",
    "    transformer.transform(tree)\n",
    "    file1.write ('\\r\\t'+transformer.devuelveMensaje()+'\\r\\r')\n",
    "    cont = 1\n",
    "    for antecedente in list(set(rule5.getAntecedentes(True))):\n",
    "        print('ANTECEDENTE '+antecedente)\n",
    "        relato = platon.construirRelatoSimplificadoTermino(antecedente)\n",
    "        file1.write(relato)\n",
    "        cont = cont + 1\n",
    "        file1.write('\\r__________________________________________________________________________________________\\r')\n",
    "\n",
    "    file1.write('\\r========================================================================================\\r')\n",
    "    file1.close()"
   ]
  },
  {
   "cell_type": "code",
   "execution_count": 90,
   "metadata": {},
   "outputs": [
    {
     "name": "stdout",
     "output_type": "stream",
     "text": [
      "\n",
      "20 analizado: story==9\n",
      "\n",
      "Adding story   is very important\n",
      "In the context of finding and justifying the theme of a text, we have been able to deduce that whenever (1) story   is very important in that text then the text analyzed could be related to the topic: 'Book Review'\n",
      "ANTECEDENTE story\n"
     ]
    }
   ],
   "source": [
    "tree = parser.parse(expresion6)\n",
    "with open ('../reports/rule6_bis_eng.txt','a') as file1:\n",
    "    file1.write(\"Explanation generated from one of the cases found where a text can be talking about the subject 'Book Review’  \\r\")\n",
    "    transformer.transform(tree)\n",
    "    file1.write ('\\r\\t'+transformer.devuelveMensaje()+'\\r\\r')\n",
    "    cont = 1\n",
    "    for antecedente in list(set(rule6.getAntecedentes(True))):\n",
    "        print('ANTECEDENTE '+antecedente)\n",
    "        relato = platon.construirRelatoSimplificadoTermino(antecedente)\n",
    "        file1.write(relato)\n",
    "        cont = cont + 1\n",
    "        file1.write('\\r__________________________________________________________________________________________\\r')\n",
    "\n",
    "    file1.write('\\r========================================================================================\\r')\n",
    "    file1.close()"
   ]
  },
  {
   "cell_type": "code",
   "execution_count": 91,
   "metadata": {},
   "outputs": [
    {
     "data": {
      "text/plain": [
       "'if story==5 and ((character>=7 and character<=8)) then confidence = 0.000007317697852255'"
      ]
     },
     "execution_count": 91,
     "metadata": {},
     "output_type": "execute_result"
    }
   ],
   "source": [
    "expresion7"
   ]
  },
  {
   "cell_type": "code",
   "execution_count": 92,
   "metadata": {},
   "outputs": [],
   "source": [
    "expresion7=expresion7.replace('7.31769785225568e-05','0.000007317697852255')"
   ]
  },
  {
   "cell_type": "code",
   "execution_count": null,
   "metadata": {},
   "outputs": [],
   "source": []
  },
  {
   "cell_type": "code",
   "execution_count": 93,
   "metadata": {},
   "outputs": [
    {
     "name": "stdout",
     "output_type": "stream",
     "text": [
      "\n",
      "21 analizado: story==5\n",
      "\n",
      "Adding story  is of medium importance\n",
      "\n",
      "22 analizado: character>=7\n",
      "\n",
      "range from!!!!\n",
      "si estoy metiendo self relevancia1is important\n",
      "Adding (character is at levels between is important\n",
      "\n",
      "EXPRESION AND 23: (2) character is at levels between is important _ Y _ (1) story  is of medium importance in that text\n",
      "\n",
      "24 analizado: character<=8\n",
      "\n",
      "range To!!!!!!!\n",
      "Adding not simplified: r1- r2:is important::and is important\n",
      "\n",
      "EXPRESION AND 25: and is important in that text _ Y _ (1) story  is of medium importance in that text and (2) character is at levels between is important\n",
      "In the context of finding and justifying the theme of a text, we have been able to deduce that whenever (1) story  is of medium importance in that text and (2) character is important in that text then the text analyzed could be related to the topic: 'Book Review'\n",
      "ANTECEDENTE story\n",
      "ANTECEDENTE character\n"
     ]
    }
   ],
   "source": [
    "tree = parser.parse(expresion7)\n",
    "with open ('../reports/rule7_bis_eng.txt','w') as file1:\n",
    "    file1.write(\"Explanation generated from one of the cases found where a text can be talking about the subject 'Book Review’  \\r\")\n",
    "    transformer.transform(tree)\n",
    "    file1.write ('\\r\\t'+transformer.devuelveMensaje()+'\\r\\r')\n",
    "    cont = 1\n",
    "    for antecedente in list(set(rule7.getAntecedentes(True))):\n",
    "        print('ANTECEDENTE '+antecedente)\n",
    "        relato = platon.construirRelatoSimplificadoTermino(antecedente)\n",
    "        file1.write(relato)\n",
    "        cont = cont + 1\n",
    "        file1.write('\\r__________________________________________________________________________________________\\r')\n",
    "\n",
    "    file1.write('\\r========================================================================================\\r')\n",
    "    file1.close()"
   ]
  },
  {
   "cell_type": "code",
   "execution_count": 94,
   "metadata": {},
   "outputs": [
    {
     "name": "stdout",
     "output_type": "stream",
     "text": [
      "\n",
      "26 analizado: character>=6\n",
      "\n",
      "range from!!!!\n",
      "si estoy metiendo self relevancia1is of medium importance\n",
      "Adding character is at levels between is of medium importance\n",
      "\n",
      "27 analizado: character<=8\n",
      "\n",
      "range To!!!!!!!\n",
      "Adding not simplified: r1is of medium importance- r2:is important::and is important\n",
      "\n",
      "28 analizado: character==10\n",
      "\n",
      "Adding character   is very important\n",
      "\n",
      " EXPRESION OR 29: and is important in that text o (3) character   is very important in that text\n",
      "range true is of medium importance----is important\n",
      "Haciendo push de (and is important in that text o (3) character   is very important in that text)\n",
      "\n",
      "EXPRESION AND 30: and is important in that text or (3) character   is very important in that text _ Y _ (1) character is at levels between is of medium importance\n",
      "In the context of finding and justifying the theme of a text, we have been able to deduce that whenever (1) character is at levels between is of medium importance and is important in that text or (3) character   is very important in that text then the text analyzed could be related to the topic: 'Book Review'\n",
      "ANTECEDENTE character\n"
     ]
    }
   ],
   "source": [
    "tree = parser.parse(expresion8)\n",
    "with open ('../reports/rule8_bis_eng.txt','a') as file1:\n",
    "    file1.write(\"Explanation generated from one of the cases found where a text can be talking about the subject 'Book Review’  \\r\")\n",
    "    transformer.transform(tree)\n",
    "    file1.write ('\\r\\t'+transformer.devuelveMensaje()+'\\r\\r')\n",
    "    cont = 1\n",
    "    for antecedente in list(set(rule8.getAntecedentes(True))):\n",
    "        print('ANTECEDENTE '+antecedente)\n",
    "        relato = platon.construirRelatoSimplificadoTermino(antecedente)\n",
    "        file1.write(relato)\n",
    "        cont = cont + 1\n",
    "        file1.write('\\r__________________________________________________________________________________________\\r')\n",
    "\n",
    "    file1.write('\\r========================================================================================\\r')\n",
    "    file1.close()"
   ]
  },
  {
   "cell_type": "code",
   "execution_count": null,
   "metadata": {},
   "outputs": [],
   "source": []
  },
  {
   "cell_type": "code",
   "execution_count": null,
   "metadata": {},
   "outputs": [],
   "source": []
  }
 ],
 "metadata": {
  "kernelspec": {
   "display_name": "Python 3",
   "language": "python",
   "name": "python3"
  },
  "language_info": {
   "codemirror_mode": {
    "name": "ipython",
    "version": 3
   },
   "file_extension": ".py",
   "mimetype": "text/x-python",
   "name": "python",
   "nbconvert_exporter": "python",
   "pygments_lexer": "ipython3",
   "version": "3.7.4"
  }
 },
 "nbformat": 4,
 "nbformat_minor": 4
}
