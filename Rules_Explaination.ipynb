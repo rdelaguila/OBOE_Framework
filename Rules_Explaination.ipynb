{
 "cells": [
  {
   "cell_type": "code",
   "execution_count": 129,
   "metadata": {},
   "outputs": [],
   "source": [
    "from lark import Lark, Transformer\n",
    "import joblib \n",
    "import rulesets\n",
    "import nlp_explain_spa\n",
    "import importlib.util\n",
    "importlib.reload(rulesets)\n",
    "importlib.reload(nlp_explain_spa)\n",
    "\n",
    "\n",
    "from rulesets import *\n",
    "from nlp_explain_spa import *"
   ]
  },
  {
   "cell_type": "code",
   "execution_count": 97,
   "metadata": {},
   "outputs": [],
   "source": [
    "from googletrans import Translator"
   ]
  },
  {
   "cell_type": "code",
   "execution_count": 98,
   "metadata": {},
   "outputs": [],
   "source": [
    "translator = Translator()"
   ]
  },
  {
   "cell_type": "code",
   "execution_count": 101,
   "metadata": {},
   "outputs": [],
   "source": [
    "with open('../config/grammar.txt') as grammar_file:\n",
    "    grammar = grammar_file.read()\n",
    "parser = Lark(grammar)\n",
    "import itertools"
   ]
  },
  {
   "cell_type": "code",
   "execution_count": 102,
   "metadata": {},
   "outputs": [
    {
     "name": "stdout",
     "output_type": "stream",
     "text": [
      "debería entrar aqui si tengo antecedentes, por cada disyuncion\n",
      "OPERATOR GREATER OR LOWER THAN\n",
      "operator 1>=\n",
      "book==6 and ((read>=5 and read<=7) or \n"
     ]
    }
   ],
   "source": [
    "rule1 = joblib.load('../objects/amazon/rules_3_experiment/rule_3_bis_1')\n",
    "decorador1 = RuleStringDecorator(rule1)\n",
    "texto1 = decorador1.getString(False,'Book Review')\n",
    "expresion1 = decorador1.getString()"
   ]
  },
  {
   "cell_type": "code",
   "execution_count": 103,
   "metadata": {},
   "outputs": [],
   "source": [
    "rule2 = joblib.load('../objects/amazon/rules_3_experiment/rule_3_bis_2')\n",
    "decorador2 = RuleStringDecorator(rule2)\n",
    "texto2 = decorador2.getString(False,'Book Review')"
   ]
  },
  {
   "cell_type": "code",
   "execution_count": 104,
   "metadata": {},
   "outputs": [
    {
     "name": "stdout",
     "output_type": "stream",
     "text": [
      "debería entrar aqui si tengo antecedentes, por cada disyuncion\n",
      "OPERATOR GREATER OR LOWER THAN\n",
      "operator 1>=\n",
      "book==6 and ((story>=5 and story<=6) or \n"
     ]
    }
   ],
   "source": [
    "expresion2 = decorador2.getString()\n",
    "rule3 = joblib.load('../objects/amazon/rules_3_experiment/rule_3_bis_3')\n",
    "decorador3 = RuleStringDecorator(rule3)\n",
    "texto3 = decorador3.getString(False,'Book Review')\n",
    "expresion3 = decorador3.getString()"
   ]
  },
  {
   "cell_type": "code",
   "execution_count": 105,
   "metadata": {},
   "outputs": [],
   "source": [
    "rule4 = joblib.load('../objects/amazon/rules_3_experiment/rule_3_bis_4')\n",
    "decorador4 = RuleStringDecorator(rule4)\n",
    "texto4 = decorador4.getString(False,'Book Review')\n",
    "expresion4 = decorador4.getString()"
   ]
  },
  {
   "cell_type": "code",
   "execution_count": 106,
   "metadata": {},
   "outputs": [],
   "source": [
    "rule5 = joblib.load('../objects/amazon/rules_3_experiment/rule_3_bis_5')\n",
    "decorador5 = RuleStringDecorator(rule5)\n",
    "texto5 = decorador5.getString(False,'Book Review')\n",
    "expresion5 = decorador5.getString()"
   ]
  },
  {
   "cell_type": "code",
   "execution_count": 107,
   "metadata": {},
   "outputs": [],
   "source": [
    "rule6 = joblib.load('../objects/amazon/rules_3_experiment/rule_3_bis_6')\n",
    "decorador6 = RuleStringDecorator(rule6)\n",
    "texto6 = decorador6.getString(False,'Book Review')\n",
    "expresion6 = decorador6.getString()"
   ]
  },
  {
   "cell_type": "code",
   "execution_count": 108,
   "metadata": {},
   "outputs": [
    {
     "name": "stdout",
     "output_type": "stream",
     "text": [
      "debería entrar aqui si tengo antecedentes, por cada disyuncion\n",
      "OPERATOR GREATER OR LOWER THAN\n",
      "operator 1>=\n",
      "story==5 and ((character>=7 and character<=8) or \n"
     ]
    }
   ],
   "source": [
    "rule7 = joblib.load('../objects/amazon/rules_3_experiment/rule_3_bis_7')\n",
    "decorador7 = RuleStringDecorator(rule7)\n",
    "texto7 = decorador7.getString(False,'Book Review')\n",
    "expresion7 = decorador7.getString()"
   ]
  },
  {
   "cell_type": "code",
   "execution_count": 109,
   "metadata": {},
   "outputs": [
    {
     "name": "stdout",
     "output_type": "stream",
     "text": [
      "debería entrar aqui si no tengo antecedentes\n",
      "OPERATOR GREATER OR LOWER THAN\n",
      "operator 1>=\n",
      "debería entrar aqui si no tengo antecedentes\n",
      "OPERATOR IGUAL\n",
      "((character>=6 and character<=8) or character==10 or \n"
     ]
    }
   ],
   "source": [
    "rule8 = joblib.load('../objects/amazon/rules_3_experiment/rule_3_bis_8')\n",
    "decorador8 = RuleStringDecorator(rule8)\n",
    "texto8 = decorador8.getString(False,'Book Review')\n",
    "expresion8 = decorador8.getString()"
   ]
  },
  {
   "cell_type": "code",
   "execution_count": null,
   "metadata": {},
   "outputs": [],
   "source": []
  },
  {
   "cell_type": "code",
   "execution_count": 110,
   "metadata": {},
   "outputs": [
    {
     "data": {
      "text/plain": [
       "'if book==6 and ((read>=5 and read<=7)) then confidence = 0.00343931799056017'"
      ]
     },
     "execution_count": 110,
     "metadata": {},
     "output_type": "execute_result"
    }
   ],
   "source": [
    "expresion1"
   ]
  },
  {
   "cell_type": "code",
   "execution_count": 111,
   "metadata": {},
   "outputs": [],
   "source": [
    "import spacy\n",
    "import time \n",
    "from spacy_langdetect import LanguageDetector\n",
    "nlp = spacy.load(\"en_core_web_md\")"
   ]
  },
  {
   "cell_type": "code",
   "execution_count": 112,
   "metadata": {},
   "outputs": [],
   "source": [
    "myworld1 = World()\n",
    "ontsumo = sumo =myworld1.get_ontology(\"../data/ontologias/SUMO.owl\")"
   ]
  },
  {
   "cell_type": "code",
   "execution_count": 113,
   "metadata": {},
   "outputs": [],
   "source": [
    "ontsumo.base_iri=\"http://www.adampease.org/OP/SUMO.owl#\"\n",
    "ontsumo.name='SUMO'\n",
    "sumo =ontsumo.load() #http://www.adampease.org/OP/SUMO.owl\n",
    "graphsumo = myworld1.as_rdflib_graph()"
   ]
  },
  {
   "cell_type": "code",
   "execution_count": 114,
   "metadata": {},
   "outputs": [],
   "source": [
    "myworld2 = World()\n",
    "ontdbpedia = dbpedia=myworld2.get_ontology(\"../data/ontologies/dbpedia_2016-10.owl\")"
   ]
  },
  {
   "cell_type": "code",
   "execution_count": 115,
   "metadata": {},
   "outputs": [
    {
     "name": "stderr",
     "output_type": "stream",
     "text": [
      "* Owlready2 * WARNING: ObjectProperty http://dbpedia.org/ontology/senator belongs to more than one entity types: [owl.ObjectProperty, dbpedia_2016-10.MemberOfParliament, DUL.sameSettingAs]; I'm trying to fix it...\n",
      "* Owlready2 * WARNING: ObjectProperty http://dbpedia.org/ontology/politicGovernmentDepartment belongs to more than one entity types: [owl.ObjectProperty, dbpedia_2016-10.Department, DUL.hasPart]; I'm trying to fix it...\n",
      "* Owlready2 * WARNING: DataProperty http://dbpedia.org/ontology/productShape belongs to more than one entity types: [owl.DatatypeProperty, DUL.hasQuality]; I'm trying to fix it...\n",
      "* Owlready2 * WARNING: DataProperty http://dbpedia.org/ontology/latinName belongs to more than one entity types: [owl.DatatypeProperty, dbpedia_2016-10.Name]; I'm trying to fix it...\n",
      "* Owlready2 * WARNING: DataProperty http://dbpedia.org/ontology/iso6391Code belongs to more than one entity types: [owl.DatatypeProperty, dbpedia_2016-10.LanguageCode]; I'm trying to fix it...\n",
      "* Owlready2 * WARNING: DataProperty http://dbpedia.org/ontology/iso6393Code belongs to more than one entity types: [owl.DatatypeProperty, dbpedia_2016-10.LanguageCode]; I'm trying to fix it...\n",
      "* Owlready2 * WARNING: DataProperty http://dbpedia.org/ontology/iso6392Code belongs to more than one entity types: [owl.DatatypeProperty, dbpedia_2016-10.LanguageCode]; I'm trying to fix it...\n",
      "* Owlready2 * WARNING: DataProperty http://dbpedia.org/ontology/ingredientName belongs to more than one entity types: [owl.DatatypeProperty, DUL.hasPart]; I'm trying to fix it...\n",
      "* Owlready2 * WARNING: DataProperty http://dbpedia.org/ontology/greekName belongs to more than one entity types: [owl.DatatypeProperty, dbpedia_2016-10.Name]; I'm trying to fix it...\n"
     ]
    }
   ],
   "source": [
    "dbpedia = ontdbpedia.load()\n",
    "\n",
    "ontdbpedia.base_iri = \"http://dbpedia.org/ontology/\"\n",
    "ontdbpedia.name='dbo'\n",
    "graphdbo = myworld2.as_rdflib_graph()"
   ]
  },
  {
   "cell_type": "code",
   "execution_count": 116,
   "metadata": {},
   "outputs": [],
   "source": [
    "myworld3 = World()\n",
    "ontwordnet = myworld3.get_ontology(\"../data/ontologies/WordNet.owl\")\n",
    "\n",
    "\n",
    "wordnet = ontwordnet.load()\n",
    "ontwordnet.base_iri = \"http://www.adampease.org/OP/WordNet.owl#\"\n",
    "ontwordnet.name='wn'\n",
    "graphwordnet = myworld3.as_rdflib_graph()\n",
    "\n",
    "\n",
    "    "
   ]
  },
  {
   "cell_type": "code",
   "execution_count": 117,
   "metadata": {},
   "outputs": [
    {
     "name": "stderr",
     "output_type": "stream",
     "text": [
      "* Owlready2 * Running HermiT...\n",
      "    java -Xmx2000M -cp /home/rdelaguila/anaconda3/lib/python3.7/site-packages/owlready2/hermit:/home/rdelaguila/anaconda3/lib/python3.7/site-packages/owlready2/hermit/HermiT.jar org.semanticweb.HermiT.cli.CommandLine -c -O -D -I file:////tmp/tmpg55swqky\n",
      "* Owlready2 * HermiT took 1.2087054252624512 seconds\n",
      "* Owlready * (NB: only changes on entities loaded in Python are shown, other changes are done but not listed)\n"
     ]
    }
   ],
   "source": [
    "    \n",
    "\n",
    "dict_onto = dict([('dbo',dbpedia),('SUMO',sumo),('wn',wordnet)])\n",
    "dict_graph = dict([('dbo',graphdbo),('SUMO',graphsumo),('wn',graphwordnet)])\n",
    "sync_reasoner()"
   ]
  },
  {
   "cell_type": "code",
   "execution_count": 118,
   "metadata": {},
   "outputs": [],
   "source": [
    "alfred = OntologyOracle(nlp,dict_onto,dict_graph)"
   ]
  },
  {
   "cell_type": "code",
   "execution_count": 119,
   "metadata": {},
   "outputs": [],
   "source": [
    "platon = SemanticRuleExplainer()\n"
   ]
  },
  {
   "cell_type": "code",
   "execution_count": 130,
   "metadata": {},
   "outputs": [],
   "source": [
    "transformer = MyTransformer(\"'Book Review'\")\n"
   ]
  },
  {
   "cell_type": "code",
   "execution_count": 84,
   "metadata": {},
   "outputs": [
    {
     "name": "stdout",
     "output_type": "stream",
     "text": [
      "\n",
      "1 analizado: book==6\n",
      "\n",
      "Adding book  tiene importancia media\n",
      "\n",
      "2 analizado: read>=5\n",
      "\n",
      "range from!!!!\n",
      "si estoy metiendo self relevancia1tiene importancia media\n",
      "Adding read se encuentra en niveles comprendidos entre tiene importancia media\n",
      "\n",
      "EXPRESION AND 3: (2) read se encuentra en niveles comprendidos entre tiene importancia media _ Y _ (1) book  tiene importancia media en dicho texto\n",
      "\n",
      "4 analizado: read<=7\n",
      "\n",
      "range To!!!!!!!\n",
      "Adding not simplified: r1- r2:es importante::y es importante\n",
      "\n",
      "EXPRESION AND 5: y es importante en dicho texto _ Y _ (1) book  tiene importancia media en dicho texto y (2) read se encuentra en niveles comprendidos entre tiene importancia media\n",
      "En el contexto de encontrar y justificar la temática de un texto, hemos podido deducir que cuando \n",
      " (1) book  tiene importancia media en dicho texto y (2) read se encuentra en niveles comprendidos entre tiene importancia media y es importante en dicho texto , entonces el texto analizado podría tratar del tema: 'Book Review'\n",
      "ANTECEDENTE read\n",
      "ANTECEDENTE book\n"
     ]
    }
   ],
   "source": [
    "tree = parser.parse(expresion1)\n",
    "with open ('../reports/rule1_bis.txt','a') as file1:\n",
    "    file1.write(\"Explicación generada de uno de los casos encontrados donde un texto puede tratar de 'Book Review' \\r\")\n",
    "    transformer.transform(tree)\n",
    "    file1.write ('\\r\\t'+transformer.devuelveMensaje()+'\\r\\r')\n",
    "    cont = 1\n",
    "    file1.write('\\rAlgunas definiciones de los términos arriba expuestos:\\r')\n",
    "    for antecedente in list(set(rule1.getAntecedentes(True))):\n",
    "        print('ANTECEDENTE '+antecedente)\n",
    "        relato = platon.construirRelatoSimplificadoTermino(antecedente)\n",
    "        file1.write(relato)\n",
    "        cont = cont + 1\n",
    "        file1.write('\\r__________________________________________________________________________________________\\r')\n",
    "\n",
    "    file1.write('\\r========================================================================================\\r')\n",
    "    file1.close()"
   ]
  },
  {
   "cell_type": "code",
   "execution_count": 85,
   "metadata": {},
   "outputs": [
    {
     "name": "stdout",
     "output_type": "stream",
     "text": [
      "\n",
      "6 analizado: book==6\n",
      "\n",
      "Adding book  tiene importancia media\n",
      "\n",
      "7 analizado: read==6\n",
      "\n",
      "Adding read  tiene importancia media\n",
      "\n",
      "EXPRESION AND 8: (2) read  tiene importancia media en dicho texto _ Y _ (1) book  tiene importancia media en dicho texto\n",
      "\n",
      "9 analizado: author==5\n",
      "\n",
      "Adding author  tiene importancia media\n",
      "\n",
      "EXPRESION AND 10: (3) author  tiene importancia media en dicho texto _ Y _ (1) book  tiene importancia media en dicho texto y (2) read  tiene importancia media en dicho texto\n",
      "En el contexto de encontrar y justificar la temática de un texto, hemos podido deducir que cuando \n",
      " (1) book  tiene importancia media en dicho texto y (2) read  tiene importancia media en dicho texto y (3) author  tiene importancia media en dicho texto , entonces el texto analizado podría tratar del tema: 'Book Review'\n",
      "ANTECEDENTE read\n",
      "ANTECEDENTE author\n",
      "ANTECEDENTE book\n"
     ]
    }
   ],
   "source": [
    "expresion2 = expresion2.replace('3.65884892612784e-05','0.0000365884892612')\n",
    "tree = parser.parse(expresion2)\n",
    "with open ('../reports/rule2_bis.txt','a') as file1:\n",
    "    file1.write(\"Explicación generada de uno de los casos encontrados donde un texto puede tratar de 'Book Review' \\r\")\n",
    "    transformer.transform(tree)\n",
    "    file1.write ('\\r\\t'+transformer.devuelveMensaje()+'\\r\\r')\n",
    "    cont = 1\n",
    "    file1.write('\\rAlgunas definiciones de los términos arriba expuestos:\\r')\n",
    "    for antecedente in list(set(rule2.getAntecedentes(True))):\n",
    "        print('ANTECEDENTE '+antecedente)\n",
    "        relato = platon.construirRelatoSimplificadoTermino(antecedente)\n",
    "        file1.write(relato)\n",
    "        cont = cont + 1\n",
    "        file1.write('\\r__________________________________________________________________________________________\\r')\n",
    "\n",
    "    file1.write('\\r========================================================================================\\r')\n",
    "    file1.close()"
   ]
  },
  {
   "cell_type": "code",
   "execution_count": 125,
   "metadata": {},
   "outputs": [
    {
     "name": "stdout",
     "output_type": "stream",
     "text": [
      "\n",
      "1 analizado: book==6\n",
      "\n",
      "Adding book  tiene importancia media\n",
      "\n",
      "2 analizado: story>=5\n",
      "\n",
      "range from!!!!\n",
      "si estoy metiendo self relevancia1tiene importancia media\n",
      "Adding story se encuentra en niveles comprendidos entre tiene importancia media\n",
      "\n",
      "EXPRESION AND 3: (2) story se encuentra en niveles comprendidos entre tiene importancia media _ Y _ (1) book  tiene importancia media en dicho texto\n",
      "\n",
      "4 analizado: story<=6\n",
      "\n",
      "range To!!!!!!!\n",
      "Adding not simplified: r1- r2:tiene importancia media::y tiene importancia media\n",
      "\n",
      "EXPRESION AND 5: y tiene importancia media en dicho texto _ Y _ (1) book  tiene importancia media en dicho texto y (2) story se encuentra en niveles comprendidos entre tiene importancia media\n",
      "En el contexto de encontrar y justificar la temática de un texto, hemos podido deducir que cuando \n",
      " (1) book  tiene importancia media en dicho texto y (2) story  tiene importancia media en dicho texto , entonces el texto analizado podría tratar del tema: 'Book Review'\n",
      "ANTECEDENTE story\n",
      "ANTECEDENTE book\n"
     ]
    }
   ],
   "source": [
    "tree = parser.parse(expresion3)\n",
    "with open ('../reports/rule3_bis.txt','w') as file1:\n",
    "    file1.write(\"Explicación generada de uno de los casos encontrados donde un texto puede tratar de 'Book Review' \\r\")\n",
    "    transformer.transform(tree)\n",
    "    file1.write ('\\r\\t'+transformer.devuelveMensaje()+'\\r\\r')\n",
    "    cont = 1\n",
    "    file1.write('\\rAlgunas definiciones de los términos arriba expuestos:\\r')\n",
    "    for antecedente in list(set(rule3.getAntecedentes(True))):\n",
    "        print('ANTECEDENTE '+antecedente)\n",
    "        relato = platon.construirRelatoSimplificadoTermino(antecedente)\n",
    "        file1.write(relato)\n",
    "        cont = cont + 1\n",
    "        file1.write('\\r__________________________________________________________________________________________\\r')\n",
    "\n",
    "    file1.write('\\r========================================================================================\\r')\n",
    "    file1.close()"
   ]
  },
  {
   "cell_type": "code",
   "execution_count": 87,
   "metadata": {},
   "outputs": [
    {
     "name": "stdout",
     "output_type": "stream",
     "text": [
      "\n",
      "16 analizado: read==9\n",
      "\n",
      "Adding read  es muy importante\n",
      "En el contexto de encontrar y justificar la temática de un texto, hemos podido deducir que cuando \n",
      " (1) read  es muy importante en dicho texto , entonces el texto analizado podría tratar del tema: 'Book Review'\n",
      "ANTECEDENTE read\n"
     ]
    }
   ],
   "source": [
    "tree = parser.parse(expresion4)\n",
    "with open ('../reports/rule4_bis.txt','a') as file1:\n",
    "    file1.write(\"Explicación generada de uno de los casos encontrados donde un texto puede tratar de 'Book Review' \\r\")\n",
    "    transformer.transform(tree)\n",
    "    file1.write ('\\r\\t'+transformer.devuelveMensaje()+'\\r\\r')\n",
    "    cont = 1\n",
    "    file1.write('\\rAlgunas definiciones de los términos arriba expuestos:\\r')\n",
    "    for antecedente in list(set(rule4.getAntecedentes(True))):\n",
    "        print('ANTECEDENTE '+antecedente)\n",
    "        relato = platon.construirRelatoSimplificadoTermino(antecedente)\n",
    "        file1.write(relato)\n",
    "        cont = cont + 1\n",
    "        file1.write('\\r__________________________________________________________________________________________\\r')\n",
    "\n",
    "    file1.write('\\r========================================================================================\\r')\n",
    "    file1.close()"
   ]
  },
  {
   "cell_type": "code",
   "execution_count": 88,
   "metadata": {},
   "outputs": [
    {
     "name": "stdout",
     "output_type": "stream",
     "text": [
      "\n",
      "17 analizado: read==5\n",
      "\n",
      "Adding read  tiene importancia media\n",
      "\n",
      "18 analizado: story==5\n",
      "\n",
      "Adding story  tiene importancia media\n",
      "\n",
      "EXPRESION AND 19: (2) story  tiene importancia media en dicho texto _ Y _ (1) read  tiene importancia media en dicho texto\n",
      "En el contexto de encontrar y justificar la temática de un texto, hemos podido deducir que cuando \n",
      " (1) read  tiene importancia media en dicho texto y (2) story  tiene importancia media en dicho texto , entonces el texto analizado podría tratar del tema: 'Book Review'\n",
      "ANTECEDENTE read\n",
      "ANTECEDENTE story\n"
     ]
    }
   ],
   "source": [
    "tree = parser.parse(expresion5)\n",
    "with open ('../reports/rule5_bis.txt','a') as file1:\n",
    "    file1.write(\"Explicación generada de uno de los casos encontrados donde un texto puede tratar de 'Book Review' \\r\")\n",
    "    transformer.transform(tree)\n",
    "    file1.write ('\\r\\t'+transformer.devuelveMensaje()+'\\r\\r')\n",
    "    cont = 1\n",
    "    file1.write('\\rAlgunas definiciones de los términos arriba expuestos:\\r')\n",
    "    for antecedente in list(set(rule5.getAntecedentes(True))):\n",
    "        print('ANTECEDENTE '+antecedente)\n",
    "        relato = platon.construirRelatoSimplificadoTermino(antecedente)\n",
    "        file1.write(relato)\n",
    "        cont = cont + 1\n",
    "        file1.write('\\r__________________________________________________________________________________________\\r')\n",
    "\n",
    "    file1.write('\\r========================================================================================\\r')\n",
    "    file1.close()"
   ]
  },
  {
   "cell_type": "code",
   "execution_count": 89,
   "metadata": {},
   "outputs": [
    {
     "name": "stdout",
     "output_type": "stream",
     "text": [
      "\n",
      "20 analizado: story==9\n",
      "\n",
      "Adding story  es muy importante\n",
      "En el contexto de encontrar y justificar la temática de un texto, hemos podido deducir que cuando \n",
      " (1) story  es muy importante en dicho texto , entonces el texto analizado podría tratar del tema: 'Book Review'\n",
      "ANTECEDENTE story\n"
     ]
    }
   ],
   "source": [
    "tree = parser.parse(expresion6)\n",
    "with open ('../reports/rule6_bis.txt','a') as file1:\n",
    "    file1.write(\"Explicación generada de uno de los casos encontrados donde un texto puede tratar de 'Book Review' \\r\")\n",
    "    transformer.transform(tree)\n",
    "    file1.write ('\\r\\t'+transformer.devuelveMensaje()+'\\r\\r')\n",
    "    cont = 1\n",
    "    file1.write('\\rAlgunas definiciones de los términos arriba expuestos:\\r')\n",
    "    for antecedente in list(set(rule6.getAntecedentes(True))):\n",
    "        print('ANTECEDENTE '+antecedente)\n",
    "        relato = platon.construirRelatoSimplificadoTermino(antecedente)\n",
    "        file1.write(relato)\n",
    "        cont = cont + 1\n",
    "        file1.write('\\r__________________________________________________________________________________________\\r')\n",
    "\n",
    "    file1.write('\\r========================================================================================\\r')\n",
    "    file1.close()"
   ]
  },
  {
   "cell_type": "code",
   "execution_count": 126,
   "metadata": {},
   "outputs": [
    {
     "data": {
      "text/plain": [
       "'if story==5 and ((character>=7 and character<=8)) then confidence = 7.31769785225568e-05'"
      ]
     },
     "execution_count": 126,
     "metadata": {},
     "output_type": "execute_result"
    }
   ],
   "source": [
    "expresion7"
   ]
  },
  {
   "cell_type": "code",
   "execution_count": 127,
   "metadata": {},
   "outputs": [],
   "source": [
    "expresion7=expresion7.replace('7.31769785225568e-05','0.000007317697852255')"
   ]
  },
  {
   "cell_type": "code",
   "execution_count": null,
   "metadata": {},
   "outputs": [],
   "source": []
  },
  {
   "cell_type": "code",
   "execution_count": 128,
   "metadata": {},
   "outputs": [
    {
     "name": "stdout",
     "output_type": "stream",
     "text": [
      "\n",
      "6 analizado: story==5\n",
      "\n",
      "Adding story  tiene importancia media\n",
      "\n",
      "7 analizado: character>=7\n",
      "\n",
      "range from!!!!\n",
      "si estoy metiendo self relevancia1es importante\n",
      "Adding character se encuentra en niveles comprendidos entre es importante\n",
      "\n",
      "8 analizado: character<=8\n",
      "\n",
      "range To!!!!!!!\n",
      "OJITO QUE ME PULO (2) character se encuentra en niveles comprendidos entre es importante\n",
      "Adding simplified tocharacter  es importante)\n",
      "\n",
      "EXPRESION AND 9: character  es importante en dicho texto _ Y _ (1) story  tiene importancia media en dicho texto\n",
      "\n",
      "EXPRESION AND 10: (1) story  tiene importancia media en dicho texto y character  es importante en dicho texto _ Y _ \n",
      "En el contexto de encontrar y justificar la temática de un texto, hemos podido deducir que cuando \n",
      " (1) story  tiene importancia media en dicho texto y character  es importante en dicho texto , entonces el texto analizado podría tratar del tema: 'Book Review'\n",
      "ANTECEDENTE character\n",
      "ANTECEDENTE story\n"
     ]
    }
   ],
   "source": [
    "tree = parser.parse(expresion7)\n",
    "with open ('../reports/rule7_bis.txt','w') as file1:\n",
    "    file1.write(\"Explicación generada de uno de los casos encontrados donde un texto puede tratar de 'Book Review' \\r\")\n",
    "    transformer.transform(tree)\n",
    "    file1.write ('\\r\\t'+transformer.devuelveMensaje()+'\\r\\r')\n",
    "    cont = 1\n",
    "    file1.write('\\rAlgunas definiciones de los términos arriba expuestos:\\r')\n",
    "    for antecedente in list(set(rule7.getAntecedentes(True))):\n",
    "        print('ANTECEDENTE '+antecedente)\n",
    "        relato = platon.construirRelatoSimplificadoTermino(antecedente)\n",
    "        file1.write(relato)\n",
    "        cont = cont + 1\n",
    "        file1.write('\\r__________________________________________________________________________________________\\r')\n",
    "\n",
    "    file1.write('\\r========================================================================================\\r')\n",
    "    file1.close()"
   ]
  },
  {
   "cell_type": "code",
   "execution_count": 131,
   "metadata": {},
   "outputs": [
    {
     "name": "stdout",
     "output_type": "stream",
     "text": [
      "\n",
      "1 analizado: character>=6\n",
      "\n",
      "range from!!!!\n",
      "si estoy metiendo self relevancia1tiene importancia media\n",
      "Adding character se encuentra en niveles comprendidos entre tiene importancia media\n",
      "\n",
      "2 analizado: character<=8\n",
      "\n",
      "range To!!!!!!!\n",
      "Adding not simplified: r1tiene importancia media- r2:es importante::y es importante\n",
      "\n",
      "3 analizado: character==10\n",
      "\n",
      "Adding character  es muy importante\n",
      "\n",
      " EXPRESION OR 4: y es importante en dicho texto o (3) character  es muy importante en dicho texto\n",
      "range true tiene importancia media----es importante\n",
      "Haciendo push de (y es importante en dicho texto o (3) character  es muy importante en dicho texto)\n",
      "\n",
      "EXPRESION AND 5: y es importante en dicho texto o (3) character  es muy importante en dicho texto _ Y _ (1) character se encuentra en niveles comprendidos entre tiene importancia media\n",
      "En el contexto de encontrar y justificar la temática de un texto, hemos podido deducir que cuando \n",
      " (1) character se encuentra en niveles comprendidos entre tiene importancia media y es importante en dicho texto o (3) character  es muy importante en dicho texto , entonces el texto analizado podría tratar del tema: 'Book Review'\n",
      "ANTECEDENTE character\n"
     ]
    }
   ],
   "source": [
    "tree = parser.parse(expresion8)\n",
    "with open ('../reports/rule8_bis.txt','a') as file1:\n",
    "    file1.write(\"Explicación generada de uno de los casos encontrados donde un texto puede tratar de 'Book Review' \\r\")\n",
    "    transformer.transform(tree)\n",
    "    file1.write ('\\r\\t'+transformer.devuelveMensaje()+'\\r\\r')\n",
    "    cont = 1\n",
    "    file1.write('\\rAlgunas definiciones de los términos arriba expuestos:\\r')\n",
    "    for antecedente in list(set(rule8.getAntecedentes(True))):\n",
    "        print('ANTECEDENTE '+antecedente)\n",
    "        relato = platon.construirRelatoSimplificadoTermino(antecedente)\n",
    "        file1.write(relato)\n",
    "        cont = cont + 1\n",
    "        file1.write('\\r__________________________________________________________________________________________\\r')\n",
    "\n",
    "    file1.write('\\r========================================================================================\\r')\n",
    "    file1.close()"
   ]
  },
  {
   "cell_type": "code",
   "execution_count": null,
   "metadata": {},
   "outputs": [],
   "source": []
  }
 ],
 "metadata": {
  "kernelspec": {
   "display_name": "Python 3",
   "language": "python",
   "name": "python3"
  },
  "language_info": {
   "codemirror_mode": {
    "name": "ipython",
    "version": 3
   },
   "file_extension": ".py",
   "mimetype": "text/x-python",
   "name": "python",
   "nbconvert_exporter": "python",
   "pygments_lexer": "ipython3",
   "version": "3.7.4"
  }
 },
 "nbformat": 4,
 "nbformat_minor": 4
}
